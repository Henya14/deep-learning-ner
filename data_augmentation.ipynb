{
 "cells": [
  {
   "cell_type": "markdown",
   "id": "dd01fed5",
   "metadata": {},
   "source": [
    "# Getting the data and importing the libraries "
   ]
  },
  {
   "cell_type": "code",
   "execution_count": null,
   "id": "7f3f1612",
   "metadata": {},
   "outputs": [],
   "source": [
    "!git clone https://github.com/Henya14/deep-learning-ner.git\n",
    "!cp -R ./deep-learning-ner/data ./data\n",
    "!cp -R ./deep-learning-ner/training.py ./"
   ]
  },
  {
   "cell_type": "code",
   "execution_count": 43,
   "id": "0b363e9d",
   "metadata": {},
   "outputs": [],
   "source": [
    "from training import get_dfs, train_test_devel_data_path\n",
    "import pandas as pd\n",
    "import matplotlib.pyplot as plt"
   ]
  },
  {
   "cell_type": "markdown",
   "id": "c02830e9",
   "metadata": {},
   "source": [
    "# Loading the data"
   ]
  },
  {
   "cell_type": "markdown",
   "id": "e4d2cdb1",
   "metadata": {},
   "source": [
    "Here I create new sentences from the tokens in the train df that are not tagged as other(O)"
   ]
  },
  {
   "cell_type": "code",
   "execution_count": 3,
   "id": "fa7d3980",
   "metadata": {
    "scrolled": true
   },
   "outputs": [
    {
     "name": "stdout",
     "output_type": "stream",
     "text": [
      "Loading: data\\train-devel-test\\devel\\fiction\\no-morph\n",
      "Loading: data\\train-devel-test\\devel\\legal\\no-morph\n",
      "Loading: data\\train-devel-test\\devel\\news\\no-morph\n",
      "Loading: data\\train-devel-test\\test\\fiction\\no-morph\n",
      "Loading: data\\train-devel-test\\test\\legal\\no-morph\n",
      "Loading: data\\train-devel-test\\test\\news\\no-morph\n",
      "Loading: data\\train-devel-test\\train\\fiction\\no-morph\n",
      "Loading: data\\train-devel-test\\train\\legal\\no-morph\n",
      "Loading: data\\train-devel-test\\train\\news\\no-morph\n",
      "Loading: data\\train-devel-test\\train\\wikipedia\\no-morph\n"
     ]
    }
   ],
   "source": [
    "dfs = get_dfs()\n",
    "train_no_O_tags_df = dfs[\"train\"].copy()\n",
    "train_no_O_tags_df = train_no_O_tags_df[dfs[\"train\"][\"CONLL:NER\"] != \"O\"]\n",
    "max_sentence_index =  dfs[\"train\"][\"sentence_index\"].max()\n",
    "train_no_O_tags_df[\"sentence_index\"] = train_no_O_tags_df[\"sentence_index\"] + max_sentence_index + 1\n"
   ]
  },
  {
   "cell_type": "markdown",
   "id": "fa7390c8",
   "metadata": {},
   "source": [
    "Here I create a df that contains all the original tokens and the non-O tags in the new sentences"
   ]
  },
  {
   "cell_type": "code",
   "execution_count": 5,
   "id": "c3027c95",
   "metadata": {},
   "outputs": [
    {
     "data": {
      "text/html": [
       "<div>\n",
       "<style scoped>\n",
       "    .dataframe tbody tr th:only-of-type {\n",
       "        vertical-align: middle;\n",
       "    }\n",
       "\n",
       "    .dataframe tbody tr th {\n",
       "        vertical-align: top;\n",
       "    }\n",
       "\n",
       "    .dataframe thead th {\n",
       "        text-align: right;\n",
       "    }\n",
       "</style>\n",
       "<table border=\"1\" class=\"dataframe\">\n",
       "  <thead>\n",
       "    <tr style=\"text-align: right;\">\n",
       "      <th></th>\n",
       "      <th>sentence_index</th>\n",
       "      <th>position_number_in_sentence</th>\n",
       "      <th>FORM</th>\n",
       "      <th>LEMMA</th>\n",
       "      <th>UPOS</th>\n",
       "      <th>XPOS</th>\n",
       "      <th>FEATS</th>\n",
       "      <th>CONLL:NER</th>\n",
       "      <th>train_test_devel</th>\n",
       "      <th>genre</th>\n",
       "      <th>file_path</th>\n",
       "    </tr>\n",
       "  </thead>\n",
       "  <tbody>\n",
       "    <tr>\n",
       "      <th>0</th>\n",
       "      <td>0</td>\n",
       "      <td>0</td>\n",
       "      <td>-</td>\n",
       "      <td>_</td>\n",
       "      <td>_</td>\n",
       "      <td>_</td>\n",
       "      <td>_</td>\n",
       "      <td>O</td>\n",
       "      <td>train</td>\n",
       "      <td>fiction</td>\n",
       "      <td>data\\train-devel-test\\train\\fiction\\no-morph\\c...</td>\n",
       "    </tr>\n",
       "    <tr>\n",
       "      <th>1</th>\n",
       "      <td>0</td>\n",
       "      <td>1</td>\n",
       "      <td>Korán</td>\n",
       "      <td>_</td>\n",
       "      <td>_</td>\n",
       "      <td>_</td>\n",
       "      <td>_</td>\n",
       "      <td>O</td>\n",
       "      <td>train</td>\n",
       "      <td>fiction</td>\n",
       "      <td>data\\train-devel-test\\train\\fiction\\no-morph\\c...</td>\n",
       "    </tr>\n",
       "    <tr>\n",
       "      <th>2</th>\n",
       "      <td>0</td>\n",
       "      <td>2</td>\n",
       "      <td>ebédelnek</td>\n",
       "      <td>_</td>\n",
       "      <td>_</td>\n",
       "      <td>_</td>\n",
       "      <td>_</td>\n",
       "      <td>O</td>\n",
       "      <td>train</td>\n",
       "      <td>fiction</td>\n",
       "      <td>data\\train-devel-test\\train\\fiction\\no-morph\\c...</td>\n",
       "    </tr>\n",
       "    <tr>\n",
       "      <th>3</th>\n",
       "      <td>0</td>\n",
       "      <td>3</td>\n",
       "      <td>,</td>\n",
       "      <td>_</td>\n",
       "      <td>_</td>\n",
       "      <td>_</td>\n",
       "      <td>_</td>\n",
       "      <td>O</td>\n",
       "      <td>train</td>\n",
       "      <td>fiction</td>\n",
       "      <td>data\\train-devel-test\\train\\fiction\\no-morph\\c...</td>\n",
       "    </tr>\n",
       "    <tr>\n",
       "      <th>4</th>\n",
       "      <td>0</td>\n",
       "      <td>4</td>\n",
       "      <td>úgy</td>\n",
       "      <td>_</td>\n",
       "      <td>_</td>\n",
       "      <td>_</td>\n",
       "      <td>_</td>\n",
       "      <td>O</td>\n",
       "      <td>train</td>\n",
       "      <td>fiction</td>\n",
       "      <td>data\\train-devel-test\\train\\fiction\\no-morph\\c...</td>\n",
       "    </tr>\n",
       "    <tr>\n",
       "      <th>...</th>\n",
       "      <td>...</td>\n",
       "      <td>...</td>\n",
       "      <td>...</td>\n",
       "      <td>...</td>\n",
       "      <td>...</td>\n",
       "      <td>...</td>\n",
       "      <td>...</td>\n",
       "      <td>...</td>\n",
       "      <td>...</td>\n",
       "      <td>...</td>\n",
       "      <td>...</td>\n",
       "    </tr>\n",
       "    <tr>\n",
       "      <th>637829</th>\n",
       "      <td>85774</td>\n",
       "      <td>8</td>\n",
       "      <td>László</td>\n",
       "      <td>_</td>\n",
       "      <td>_</td>\n",
       "      <td>_</td>\n",
       "      <td>_</td>\n",
       "      <td>I-PER</td>\n",
       "      <td>train</td>\n",
       "      <td>wikipedia</td>\n",
       "      <td>data\\train-devel-test\\train\\wikipedia\\no-morph...</td>\n",
       "    </tr>\n",
       "    <tr>\n",
       "      <th>637845</th>\n",
       "      <td>85775</td>\n",
       "      <td>0</td>\n",
       "      <td>Hispaniola</td>\n",
       "      <td>_</td>\n",
       "      <td>_</td>\n",
       "      <td>_</td>\n",
       "      <td>_</td>\n",
       "      <td>B-LOC</td>\n",
       "      <td>train</td>\n",
       "      <td>wikipedia</td>\n",
       "      <td>data\\train-devel-test\\train\\wikipedia\\no-morph...</td>\n",
       "    </tr>\n",
       "    <tr>\n",
       "      <th>637851</th>\n",
       "      <td>85775</td>\n",
       "      <td>6</td>\n",
       "      <td>Haitiben</td>\n",
       "      <td>_</td>\n",
       "      <td>_</td>\n",
       "      <td>_</td>\n",
       "      <td>_</td>\n",
       "      <td>B-LOC</td>\n",
       "      <td>train</td>\n",
       "      <td>wikipedia</td>\n",
       "      <td>data\\train-devel-test\\train\\wikipedia\\no-morph...</td>\n",
       "    </tr>\n",
       "    <tr>\n",
       "      <th>637854</th>\n",
       "      <td>85775</td>\n",
       "      <td>9</td>\n",
       "      <td>Dominikai</td>\n",
       "      <td>_</td>\n",
       "      <td>_</td>\n",
       "      <td>_</td>\n",
       "      <td>_</td>\n",
       "      <td>B-LOC</td>\n",
       "      <td>train</td>\n",
       "      <td>wikipedia</td>\n",
       "      <td>data\\train-devel-test\\train\\wikipedia\\no-morph...</td>\n",
       "    </tr>\n",
       "    <tr>\n",
       "      <th>637855</th>\n",
       "      <td>85775</td>\n",
       "      <td>10</td>\n",
       "      <td>Köztársaságban</td>\n",
       "      <td>_</td>\n",
       "      <td>_</td>\n",
       "      <td>_</td>\n",
       "      <td>_</td>\n",
       "      <td>I-LOC</td>\n",
       "      <td>train</td>\n",
       "      <td>wikipedia</td>\n",
       "      <td>data\\train-devel-test\\train\\wikipedia\\no-morph...</td>\n",
       "    </tr>\n",
       "  </tbody>\n",
       "</table>\n",
       "<p>684633 rows × 11 columns</p>\n",
       "</div>"
      ],
      "text/plain": [
       "        sentence_index  position_number_in_sentence            FORM LEMMA  \\\n",
       "0                    0                            0               -     _   \n",
       "1                    0                            1           Korán     _   \n",
       "2                    0                            2       ebédelnek     _   \n",
       "3                    0                            3               ,     _   \n",
       "4                    0                            4             úgy     _   \n",
       "...                ...                          ...             ...   ...   \n",
       "637829           85774                            8          László     _   \n",
       "637845           85775                            0      Hispaniola     _   \n",
       "637851           85775                            6        Haitiben     _   \n",
       "637854           85775                            9       Dominikai     _   \n",
       "637855           85775                           10  Köztársaságban     _   \n",
       "\n",
       "       UPOS XPOS FEATS CONLL:NER train_test_devel      genre  \\\n",
       "0         _    _     _         O            train    fiction   \n",
       "1         _    _     _         O            train    fiction   \n",
       "2         _    _     _         O            train    fiction   \n",
       "3         _    _     _         O            train    fiction   \n",
       "4         _    _     _         O            train    fiction   \n",
       "...     ...  ...   ...       ...              ...        ...   \n",
       "637829    _    _     _     I-PER            train  wikipedia   \n",
       "637845    _    _     _     B-LOC            train  wikipedia   \n",
       "637851    _    _     _     B-LOC            train  wikipedia   \n",
       "637854    _    _     _     B-LOC            train  wikipedia   \n",
       "637855    _    _     _     I-LOC            train  wikipedia   \n",
       "\n",
       "                                                file_path  \n",
       "0       data\\train-devel-test\\train\\fiction\\no-morph\\c...  \n",
       "1       data\\train-devel-test\\train\\fiction\\no-morph\\c...  \n",
       "2       data\\train-devel-test\\train\\fiction\\no-morph\\c...  \n",
       "3       data\\train-devel-test\\train\\fiction\\no-morph\\c...  \n",
       "4       data\\train-devel-test\\train\\fiction\\no-morph\\c...  \n",
       "...                                                   ...  \n",
       "637829  data\\train-devel-test\\train\\wikipedia\\no-morph...  \n",
       "637845  data\\train-devel-test\\train\\wikipedia\\no-morph...  \n",
       "637851  data\\train-devel-test\\train\\wikipedia\\no-morph...  \n",
       "637854  data\\train-devel-test\\train\\wikipedia\\no-morph...  \n",
       "637855  data\\train-devel-test\\train\\wikipedia\\no-morph...  \n",
       "\n",
       "[684633 rows x 11 columns]"
      ]
     },
     "execution_count": 5,
     "metadata": {},
     "output_type": "execute_result"
    }
   ],
   "source": [
    "all_df = pd.concat([dfs[\"train\"],train_no_O_tags_df])\n",
    "all_df"
   ]
  },
  {
   "cell_type": "markdown",
   "id": "8d7cdbbf",
   "metadata": {},
   "source": [
    "# Getting the sentences"
   ]
  },
  {
   "cell_type": "markdown",
   "id": "3de74e86",
   "metadata": {},
   "source": [
    "This is the reworked `get_sentences` function from `training.py` that returns a pandas `DataFrame` with the sentences instead"
   ]
  },
  {
   "cell_type": "code",
   "execution_count": 9,
   "id": "d400db11",
   "metadata": {},
   "outputs": [],
   "source": [
    "from tqdm import tqdm\n",
    "def get_sentences(df: pd.DataFrame):\n",
    "    copy_df = df.copy()\n",
    "    copy_df = copy_df.sort_values([\"sentence_index\", \"position_number_in_sentence\"])\n",
    "    sentences = pd.DataFrame(columns=[\"FORM\", \"TAG\"] )\n",
    "    print(f\"There are {len(copy_df['sentence_index'].unique())} sentences in the dataset\")\n",
    "    for i in tqdm(range(copy_df[\"sentence_index\"].max())):\n",
    "        form_tag_pairs = copy_df[copy_df[\"sentence_index\"]==i][[\"sentence_index\",\"position_number_in_sentence\", \"FORM\", \"CONLL:NER\"]]\n",
    "        if (len(form_tag_pairs) > 0):\n",
    "            row = {\n",
    "                    \"FORM\": form_tag_pairs[\"FORM\"].tolist(),\n",
    "                    \"TAG\": form_tag_pairs[\"CONLL:NER\"].tolist(),\n",
    "                }\n",
    "            row = pd.Series(row)\n",
    "            sentences.loc[len(sentences)] = row\n",
    "            #sentences.append({\"FORM\": form_tag_pairs[\"FORM\"].tolist(),\"TAG\": form_tag_pairs[\"CONLL:NER\"].tolist()})\n",
    "        \n",
    "    return sentences"
   ]
  },
  {
   "cell_type": "code",
   "execution_count": 10,
   "id": "9511cc51",
   "metadata": {
    "scrolled": false
   },
   "outputs": [
    {
     "name": "stdout",
     "output_type": "stream",
     "text": [
      "There are 63532 sentences in the dataset\n"
     ]
    },
    {
     "name": "stderr",
     "output_type": "stream",
     "text": [
      "100%|███████████████████████████████████████████████████████████████████████████| 85775/85775 [07:06<00:00, 200.91it/s]\n"
     ]
    }
   ],
   "source": [
    "train_sentence_df = get_sentences(all_df)"
   ]
  },
  {
   "cell_type": "markdown",
   "id": "e183055d",
   "metadata": {},
   "source": [
    "Here I get the original sentences and the sentences without the O tag"
   ]
  },
  {
   "cell_type": "code",
   "execution_count": 17,
   "id": "690da52a",
   "metadata": {},
   "outputs": [],
   "source": [
    "original_sentences_df = train_sentence_df[:42884].copy()\n",
    "sentences_without_O_tag_df = train_sentence_df[42884:].copy()"
   ]
  },
  {
   "cell_type": "markdown",
   "id": "39613955",
   "metadata": {},
   "source": [
    "Here I remove the duplicate sentences from the non-O sentences. I needed to use a little hack because `drop_duplicates` does not work on lists so the data fram had to be converted to string and then drop the duplicates. "
   ]
  },
  {
   "cell_type": "code",
   "execution_count": 33,
   "id": "7e9c7ec3",
   "metadata": {
    "scrolled": true
   },
   "outputs": [],
   "source": [
    "sentences_without_O_tag_df = sentences_without_O_tag_df.loc[sentences_without_O_tag_df.astype(str).drop_duplicates().index]"
   ]
  },
  {
   "cell_type": "code",
   "execution_count": 34,
   "id": "47469397",
   "metadata": {},
   "outputs": [
    {
     "data": {
      "text/html": [
       "<div>\n",
       "<style scoped>\n",
       "    .dataframe tbody tr th:only-of-type {\n",
       "        vertical-align: middle;\n",
       "    }\n",
       "\n",
       "    .dataframe tbody tr th {\n",
       "        vertical-align: top;\n",
       "    }\n",
       "\n",
       "    .dataframe thead th {\n",
       "        text-align: right;\n",
       "    }\n",
       "</style>\n",
       "<table border=\"1\" class=\"dataframe\">\n",
       "  <thead>\n",
       "    <tr style=\"text-align: right;\">\n",
       "      <th></th>\n",
       "      <th>FORM</th>\n",
       "      <th>TAG</th>\n",
       "    </tr>\n",
       "  </thead>\n",
       "  <tbody>\n",
       "    <tr>\n",
       "      <th>42884</th>\n",
       "      <td>[Loder, Chilcote]</td>\n",
       "      <td>[B-PER, B-PER]</td>\n",
       "    </tr>\n",
       "    <tr>\n",
       "      <th>42885</th>\n",
       "      <td>[Éva]</td>\n",
       "      <td>[B-PER]</td>\n",
       "    </tr>\n",
       "    <tr>\n",
       "      <th>42886</th>\n",
       "      <td>[Chilcote, Clifford's, Innbe]</td>\n",
       "      <td>[B-PER, B-LOC, I-LOC]</td>\n",
       "    </tr>\n",
       "    <tr>\n",
       "      <th>42887</th>\n",
       "      <td>[Chilcote]</td>\n",
       "      <td>[B-PER]</td>\n",
       "    </tr>\n",
       "    <tr>\n",
       "      <th>42891</th>\n",
       "      <td>[Trafalgar-, téren, Chilcote]</td>\n",
       "      <td>[B-LOC, I-LOC, B-PER]</td>\n",
       "    </tr>\n",
       "    <tr>\n",
       "      <th>...</th>\n",
       "      <td>...</td>\n",
       "      <td>...</td>\n",
       "    </tr>\n",
       "    <tr>\n",
       "      <th>63524</th>\n",
       "      <td>[HMS, Dublin]</td>\n",
       "      <td>[B-MISC, I-MISC]</td>\n",
       "    </tr>\n",
       "    <tr>\n",
       "      <th>63525</th>\n",
       "      <td>[Ancona]</td>\n",
       "      <td>[B-LOC]</td>\n",
       "    </tr>\n",
       "    <tr>\n",
       "      <th>63526</th>\n",
       "      <td>[Benfica, Manchester, United]</td>\n",
       "      <td>[B-ORG, B-ORG, I-ORG]</td>\n",
       "    </tr>\n",
       "    <tr>\n",
       "      <th>63528</th>\n",
       "      <td>[Nagybaconban, Székelykeresztúron, Székelyudva...</td>\n",
       "      <td>[B-LOC, B-LOC, B-LOC, B-LOC]</td>\n",
       "    </tr>\n",
       "    <tr>\n",
       "      <th>63530</th>\n",
       "      <td>[Kiss, László]</td>\n",
       "      <td>[B-PER, I-PER]</td>\n",
       "    </tr>\n",
       "  </tbody>\n",
       "</table>\n",
       "<p>13264 rows × 2 columns</p>\n",
       "</div>"
      ],
      "text/plain": [
       "                                                    FORM  \\\n",
       "42884                                  [Loder, Chilcote]   \n",
       "42885                                              [Éva]   \n",
       "42886                      [Chilcote, Clifford's, Innbe]   \n",
       "42887                                         [Chilcote]   \n",
       "42891                      [Trafalgar-, téren, Chilcote]   \n",
       "...                                                  ...   \n",
       "63524                                      [HMS, Dublin]   \n",
       "63525                                           [Ancona]   \n",
       "63526                      [Benfica, Manchester, United]   \n",
       "63528  [Nagybaconban, Székelykeresztúron, Székelyudva...   \n",
       "63530                                     [Kiss, László]   \n",
       "\n",
       "                                TAG  \n",
       "42884                [B-PER, B-PER]  \n",
       "42885                       [B-PER]  \n",
       "42886         [B-PER, B-LOC, I-LOC]  \n",
       "42887                       [B-PER]  \n",
       "42891         [B-LOC, I-LOC, B-PER]  \n",
       "...                             ...  \n",
       "63524              [B-MISC, I-MISC]  \n",
       "63525                       [B-LOC]  \n",
       "63526         [B-ORG, B-ORG, I-ORG]  \n",
       "63528  [B-LOC, B-LOC, B-LOC, B-LOC]  \n",
       "63530                [B-PER, I-PER]  \n",
       "\n",
       "[13264 rows x 2 columns]"
      ]
     },
     "execution_count": 34,
     "metadata": {},
     "output_type": "execute_result"
    }
   ],
   "source": [
    "sentences_without_O_tag_df"
   ]
  },
  {
   "cell_type": "markdown",
   "id": "f60a200b",
   "metadata": {},
   "source": [
    "Here I save each data frame, beacause getting the sentences takes a lot of time and this way it will be quicker to load them before use."
   ]
  },
  {
   "cell_type": "code",
   "execution_count": 35,
   "id": "e0333715",
   "metadata": {},
   "outputs": [],
   "source": [
    "sentences_without_O_tag_df.to_csv(\"removed_o_tag_sentences.csv\", index=False)"
   ]
  },
  {
   "cell_type": "code",
   "execution_count": 36,
   "id": "cfab2e1a",
   "metadata": {},
   "outputs": [],
   "source": [
    "original_sentences_df.to_csv(\"original_sentences.csv\", index=False)"
   ]
  },
  {
   "cell_type": "markdown",
   "id": "5a970385",
   "metadata": {},
   "source": [
    "# Augmenting the train dataset"
   ]
  },
  {
   "cell_type": "markdown",
   "id": "30908ccf",
   "metadata": {},
   "source": [
    "Here I define the data frame augmentation function that adds the non-O tag sentences the specified amount of times to the original sentences"
   ]
  },
  {
   "cell_type": "code",
   "execution_count": 47,
   "id": "a02f2639",
   "metadata": {},
   "outputs": [],
   "source": [
    "import os\n",
    "def get_augmented_train_df(add_no_o_tag_sentences_num_times = 1): \n",
    "    train_df = pd.read_csv(os.path.join(train_test_devel_data_path, \"train\", \"original_sentences.csv\"))\n",
    "    train_sentences_removed_o_tag_df =  pd.read_csv(os.path.join(train_test_devel_data_path, \"train\", \"removed_o_tag_sentences.csv\"))\n",
    "    for i in range(add_no_o_tag_sentences_num_times):\n",
    "        train_df = pd.concat([train_df, train_sentences_removed_o_tag_df], ignore_index=True)\n",
    "    return train_df\n"
   ]
  },
  {
   "cell_type": "markdown",
   "id": "8ee14ec4",
   "metadata": {},
   "source": [
    "Here I check how the augmentation changed the tag distribution"
   ]
  },
  {
   "cell_type": "code",
   "execution_count": 50,
   "id": "7cec546c",
   "metadata": {},
   "outputs": [
    {
     "name": "stdout",
     "output_type": "stream",
     "text": [
      "The data frame's 87.58% is tagged as O\n"
     ]
    },
    {
     "data": {
      "text/plain": [
       "<BarContainer object of 9 artists>"
      ]
     },
     "execution_count": 50,
     "metadata": {},
     "output_type": "execute_result"
    },
    {
     "data": {
      "image/png": "[encoded data removed]",
      "text/plain": [
       "<Figure size 432x288 with 1 Axes>"
      ]
     },
     "metadata": {
      "needs_background": "light"
     },
     "output_type": "display_data"
    }
   ],
   "source": [
    "from collections import Counter\n",
    "\n",
    "\n",
    "augmented_train_df = get_augmented_train_df(1)\n",
    "tags = augmented_train_df[\"TAG\"].apply(eval).tolist()\n",
    "tags = [item for item_list in tags for item in item_list]\n",
    "value_counts= pd.Series(Counter(tags)).sort_index()\n",
    "print(f\"The data frame's {value_counts['O']/ value_counts.sum() * 100:.2f}% is tagged as O\")\n",
    "plt.bar(value_counts.keys(), value_counts.values, color=\"salmon\", label=\"# of tags\")"
   ]
  }
 ],
 "metadata": {
  "kernelspec": {
   "display_name": "Python 3 (ipykernel)",
   "language": "python",
   "name": "python3"
  },
  "language_info": {
   "codemirror_mode": {
    "name": "ipython",
    "version": 3
   },
   "file_extension": ".py",
   "mimetype": "text/x-python",
   "name": "python",
   "nbconvert_exporter": "python",
   "pygments_lexer": "ipython3",
   "version": "3.9.7"
  }
 },
 "nbformat": 4,
 "nbformat_minor": 5
}
