{
  "cells": [
    {
      "cell_type": "code",
      "execution_count": 1,
      "id": "7cf8e48f",
      "metadata": {
        "id": "7cf8e48f"
      },
      "outputs": [],
      "source": [
        "import pandas as pd\n",
        "import os"
      ]
    },
    {
      "cell_type": "markdown",
      "source": [
        "# About the data"
      ],
      "metadata": {
        "id": "FT_HqDfQRjf_"
      },
      "id": "FT_HqDfQRjf_"
    },
    {
      "cell_type": "markdown",
      "source": [
        "We get the data from the [NYTK-NerKor](https://github.com/nytud/NYTK-NerKor) repo. It contains 1 million tokens."
      ],
      "metadata": {
        "id": "7SnK0ViPRl4e"
      },
      "id": "7SnK0ViPRl4e"
    },
    {
      "cell_type": "markdown",
      "source": [
        "# Downloading the data"
      ],
      "metadata": {
        "id": "naOgf6p1RpH2"
      },
      "id": "naOgf6p1RpH2"
    },
    {
      "cell_type": "code",
      "source": [
        "!rm -rf  temp\n",
        "!git clone https://github.com/nytud/NYTK-NerKor.git temp\n",
        "!cp -R ./temp/data ./data\n",
        "!rm -rf  temp"
      ],
      "metadata": {
        "colab": {
          "base_uri": "https://localhost:8080/"
        },
        "id": "p8_AlmJhQw5t",
        "outputId": "bac342c8-4602-4d7b-f0bb-afa262301c10"
      },
      "id": "p8_AlmJhQw5t",
      "execution_count": 2,
      "outputs": [
        {
          "output_type": "stream",
          "name": "stdout",
          "text": [
            "Cloning into 'temp'...\n",
            "remote: Enumerating objects: 2026, done.\u001b[K\n",
            "remote: Counting objects: 100% (515/515), done.\u001b[K\n",
            "remote: Compressing objects: 100% (22/22), done.\u001b[K\n",
            "remote: Total 2026 (delta 508), reused 493 (delta 493), pack-reused 1511\u001b[K\n",
            "Receiving objects: 100% (2026/2026), 6.26 MiB | 7.46 MiB/s, done.\n",
            "Resolving deltas: 100% (868/868), done.\n"
          ]
        }
      ]
    },
    {
      "cell_type": "markdown",
      "source": [
        "# Preparing and exploring the data"
      ],
      "metadata": {
        "id": "qrrGu9kJWlMp"
      },
      "id": "qrrGu9kJWlMp"
    },
    {
      "cell_type": "markdown",
      "source": [
        "## Get the columns of the data"
      ],
      "metadata": {
        "id": "g2kjQFWcSNGc"
      },
      "id": "g2kjQFWcSNGc"
    },
    {
      "cell_type": "code",
      "execution_count": 3,
      "id": "41bd43b4",
      "metadata": {
        "id": "41bd43b4"
      },
      "outputs": [],
      "source": [
        "def get_columns(file_path):\n",
        "    with open(file_path, \"r\") as rf:\n",
        "        with open(os.path.join(file_path)) as f:\n",
        "            column_line = f.readline()\n",
        "            columns = column_line.split(\"=\")[1]\n",
        "            columns = [c.strip() for c in columns.split(\" \") if c]\n",
        "            return columns\n"
      ]
    },
    {
      "cell_type": "code",
      "execution_count": 4,
      "id": "bcb94951",
      "metadata": {
        "colab": {
          "base_uri": "https://localhost:8080/"
        },
        "id": "bcb94951",
        "outputId": "06fb1265-9275-4922-f7d1-4162a81b65f7"
      },
      "outputs": [
        {
          "output_type": "execute_result",
          "data": {
            "text/plain": [
              "['FORM', 'LEMMA', 'UPOS', 'XPOS', 'FEATS', 'CONLL:NER']"
            ]
          },
          "metadata": {},
          "execution_count": 4
        }
      ],
      "source": [
        "get_columns(\"./data/train-devel-test/train/fiction/no-morph/chilcote_12.conllup\")"
      ]
    },
    {
      "cell_type": "markdown",
      "source": [
        "## Loading the data into a pandas DataFrame"
      ],
      "metadata": {
        "id": "s-tdKDE3SRd4"
      },
      "id": "s-tdKDE3SRd4"
    },
    {
      "cell_type": "code",
      "execution_count": 5,
      "id": "63f6e9f9",
      "metadata": {
        "id": "63f6e9f9"
      },
      "outputs": [],
      "source": [
        "def load_conllup_file(file_path):\n",
        "    conllu_columns = get_columns(\"./data/train-devel-test/train/fiction/no-morph/chilcote_12.conllup\")\n",
        "    df = pd.DataFrame(columns=[\"sentence_index\", \"position_number_in_sentence\", *conllu_columns])\n",
        "    with open(file_path, encoding=\"UTF-8\") as f:\n",
        "        sentence_index = 0\n",
        "        position_number_in_sentence = 0\n",
        "        line = f.readline() # skip the first comment line\n",
        "        line = f.readline()\n",
        "        while line:\n",
        "            if line == \"\\n\":\n",
        "                sentence_index +=  1\n",
        "                position_number_in_sentence = 0\n",
        "            else:\n",
        "                splitted_line = line.split()\n",
        "                conllu_row_part = {}\n",
        "                for i in range(len(conllu_columns)):\n",
        "                    conllu_row_part[f\"{conllu_columns[i]}\"] = splitted_line[i]\n",
        "                \n",
        "                row = {\n",
        "                    \"sentence_index\": sentence_index,\n",
        "                    \"position_number_in_sentence\": position_number_in_sentence,\n",
        "                    **conllu_row_part\n",
        "                }\n",
        "                row = pd.Series(row)\n",
        "                df.loc[len(df)] = row\n",
        "                position_number_in_sentence += 1\n",
        "            line = f.readline()\n",
        "        return df"
      ]
    },
    {
      "cell_type": "markdown",
      "source": [
        "### Test the loading"
      ],
      "metadata": {
        "id": "_xYRFhRsSauG"
      },
      "id": "_xYRFhRsSauG"
    },
    {
      "cell_type": "code",
      "execution_count": 6,
      "id": "fc59e10f",
      "metadata": {
        "id": "fc59e10f"
      },
      "outputs": [],
      "source": [
        "df = load_conllup_file(\"./data/train-devel-test/train/fiction/no-morph/chilcote_12.conllup\")"
      ]
    },
    {
      "cell_type": "code",
      "execution_count": 7,
      "id": "4c501b9b",
      "metadata": {
        "colab": {
          "base_uri": "https://localhost:8080/",
          "height": 0
        },
        "id": "4c501b9b",
        "outputId": "6f3c2a00-01d4-47f3-b070-36097741d7de"
      },
      "outputs": [
        {
          "output_type": "execute_result",
          "data": {
            "text/plain": [
              "  sentence_index position_number_in_sentence       FORM LEMMA UPOS XPOS FEATS  \\\n",
              "0              0                           0          -     _    _    _     _   \n",
              "1              0                           1      Korán     _    _    _     _   \n",
              "2              0                           2  ebédelnek     _    _    _     _   \n",
              "3              0                           3          ,     _    _    _     _   \n",
              "4              0                           4        úgy     _    _    _     _   \n",
              "\n",
              "  CONLL:NER  \n",
              "0         O  \n",
              "1         O  \n",
              "2         O  \n",
              "3         O  \n",
              "4         O  "
            ],
            "text/html": [
              "\n",
              "  <div id=\"df-2bb90707-8335-40b3-9b66-d8ad1d580b94\">\n",
              "    <div class=\"colab-df-container\">\n",
              "      <div>\n",
              "<style scoped>\n",
              "    .dataframe tbody tr th:only-of-type {\n",
              "        vertical-align: middle;\n",
              "    }\n",
              "\n",
              "    .dataframe tbody tr th {\n",
              "        vertical-align: top;\n",
              "    }\n",
              "\n",
              "    .dataframe thead th {\n",
              "        text-align: right;\n",
              "    }\n",
              "</style>\n",
              "<table border=\"1\" class=\"dataframe\">\n",
              "  <thead>\n",
              "    <tr style=\"text-align: right;\">\n",
              "      <th></th>\n",
              "      <th>sentence_index</th>\n",
              "      <th>position_number_in_sentence</th>\n",
              "      <th>FORM</th>\n",
              "      <th>LEMMA</th>\n",
              "      <th>UPOS</th>\n",
              "      <th>XPOS</th>\n",
              "      <th>FEATS</th>\n",
              "      <th>CONLL:NER</th>\n",
              "    </tr>\n",
              "  </thead>\n",
              "  <tbody>\n",
              "    <tr>\n",
              "      <th>0</th>\n",
              "      <td>0</td>\n",
              "      <td>0</td>\n",
              "      <td>-</td>\n",
              "      <td>_</td>\n",
              "      <td>_</td>\n",
              "      <td>_</td>\n",
              "      <td>_</td>\n",
              "      <td>O</td>\n",
              "    </tr>\n",
              "    <tr>\n",
              "      <th>1</th>\n",
              "      <td>0</td>\n",
              "      <td>1</td>\n",
              "      <td>Korán</td>\n",
              "      <td>_</td>\n",
              "      <td>_</td>\n",
              "      <td>_</td>\n",
              "      <td>_</td>\n",
              "      <td>O</td>\n",
              "    </tr>\n",
              "    <tr>\n",
              "      <th>2</th>\n",
              "      <td>0</td>\n",
              "      <td>2</td>\n",
              "      <td>ebédelnek</td>\n",
              "      <td>_</td>\n",
              "      <td>_</td>\n",
              "      <td>_</td>\n",
              "      <td>_</td>\n",
              "      <td>O</td>\n",
              "    </tr>\n",
              "    <tr>\n",
              "      <th>3</th>\n",
              "      <td>0</td>\n",
              "      <td>3</td>\n",
              "      <td>,</td>\n",
              "      <td>_</td>\n",
              "      <td>_</td>\n",
              "      <td>_</td>\n",
              "      <td>_</td>\n",
              "      <td>O</td>\n",
              "    </tr>\n",
              "    <tr>\n",
              "      <th>4</th>\n",
              "      <td>0</td>\n",
              "      <td>4</td>\n",
              "      <td>úgy</td>\n",
              "      <td>_</td>\n",
              "      <td>_</td>\n",
              "      <td>_</td>\n",
              "      <td>_</td>\n",
              "      <td>O</td>\n",
              "    </tr>\n",
              "  </tbody>\n",
              "</table>\n",
              "</div>\n",
              "      <button class=\"colab-df-convert\" onclick=\"convertToInteractive('df-2bb90707-8335-40b3-9b66-d8ad1d580b94')\"\n",
              "              title=\"Convert this dataframe to an interactive table.\"\n",
              "              style=\"display:none;\">\n",
              "        \n",
              "  <svg xmlns=\"http://www.w3.org/2000/svg\" height=\"24px\"viewBox=\"0 0 24 24\"\n",
              "       width=\"24px\">\n",
              "    <path d=\"M0 0h24v24H0V0z\" fill=\"none\"/>\n",
              "    <path d=\"M18.56 5.44l.94 2.06.94-2.06 2.06-.94-2.06-.94-.94-2.06-.94 2.06-2.06.94zm-11 1L8.5 8.5l.94-2.06 2.06-.94-2.06-.94L8.5 2.5l-.94 2.06-2.06.94zm10 10l.94 2.06.94-2.06 2.06-.94-2.06-.94-.94-2.06-.94 2.06-2.06.94z\"/><path d=\"M17.41 7.96l-1.37-1.37c-.4-.4-.92-.59-1.43-.59-.52 0-1.04.2-1.43.59L10.3 9.45l-7.72 7.72c-.78.78-.78 2.05 0 2.83L4 21.41c.39.39.9.59 1.41.59.51 0 1.02-.2 1.41-.59l7.78-7.78 2.81-2.81c.8-.78.8-2.07 0-2.86zM5.41 20L4 18.59l7.72-7.72 1.47 1.35L5.41 20z\"/>\n",
              "  </svg>\n",
              "      </button>\n",
              "      \n",
              "  <style>\n",
              "    .colab-df-container {\n",
              "      display:flex;\n",
              "      flex-wrap:wrap;\n",
              "      gap: 12px;\n",
              "    }\n",
              "\n",
              "    .colab-df-convert {\n",
              "      background-color: #E8F0FE;\n",
              "      border: none;\n",
              "      border-radius: 50%;\n",
              "      cursor: pointer;\n",
              "      display: none;\n",
              "      fill: #1967D2;\n",
              "      height: 32px;\n",
              "      padding: 0 0 0 0;\n",
              "      width: 32px;\n",
              "    }\n",
              "\n",
              "    .colab-df-convert:hover {\n",
              "      background-color: #E2EBFA;\n",
              "      box-shadow: 0px 1px 2px rgba(60, 64, 67, 0.3), 0px 1px 3px 1px rgba(60, 64, 67, 0.15);\n",
              "      fill: #174EA6;\n",
              "    }\n",
              "\n",
              "    [theme=dark] .colab-df-convert {\n",
              "      background-color: #3B4455;\n",
              "      fill: #D2E3FC;\n",
              "    }\n",
              "\n",
              "    [theme=dark] .colab-df-convert:hover {\n",
              "      background-color: #434B5C;\n",
              "      box-shadow: 0px 1px 3px 1px rgba(0, 0, 0, 0.15);\n",
              "      filter: drop-shadow(0px 1px 2px rgba(0, 0, 0, 0.3));\n",
              "      fill: #FFFFFF;\n",
              "    }\n",
              "  </style>\n",
              "\n",
              "      <script>\n",
              "        const buttonEl =\n",
              "          document.querySelector('#df-2bb90707-8335-40b3-9b66-d8ad1d580b94 button.colab-df-convert');\n",
              "        buttonEl.style.display =\n",
              "          google.colab.kernel.accessAllowed ? 'block' : 'none';\n",
              "\n",
              "        async function convertToInteractive(key) {\n",
              "          const element = document.querySelector('#df-2bb90707-8335-40b3-9b66-d8ad1d580b94');\n",
              "          const dataTable =\n",
              "            await google.colab.kernel.invokeFunction('convertToInteractive',\n",
              "                                                     [key], {});\n",
              "          if (!dataTable) return;\n",
              "\n",
              "          const docLinkHtml = 'Like what you see? Visit the ' +\n",
              "            '<a target=\"_blank\" href=https://colab.research.google.com/notebooks/data_table.ipynb>data table notebook</a>'\n",
              "            + ' to learn more about interactive tables.';\n",
              "          element.innerHTML = '';\n",
              "          dataTable['output_type'] = 'display_data';\n",
              "          await google.colab.output.renderOutput(dataTable, element);\n",
              "          const docLink = document.createElement('div');\n",
              "          docLink.innerHTML = docLinkHtml;\n",
              "          element.appendChild(docLink);\n",
              "        }\n",
              "      </script>\n",
              "    </div>\n",
              "  </div>\n",
              "  "
            ]
          },
          "metadata": {},
          "execution_count": 7
        }
      ],
      "source": [
        "df.head(5)"
      ]
    },
    {
      "cell_type": "code",
      "execution_count": 8,
      "id": "2c702f94",
      "metadata": {
        "colab": {
          "base_uri": "https://localhost:8080/"
        },
        "id": "2c702f94",
        "outputId": "d778f46e-2b4c-461e-f060-1724c668043b"
      },
      "outputs": [
        {
          "output_type": "execute_result",
          "data": {
            "text/plain": [
              "O         3637\n",
              "B-PER       50\n",
              "B-LOC       21\n",
              "I-LOC       14\n",
              "B-MISC       1\n",
              "Name: CONLL:NER, dtype: int64"
            ]
          },
          "metadata": {},
          "execution_count": 8
        }
      ],
      "source": [
        "df[\"CONLL:NER\"].value_counts()"
      ]
    },
    {
      "cell_type": "markdown",
      "source": [
        "# Converting conllup data to csv format\n"
      ],
      "metadata": {
        "id": "cvOwslJ4SgVu"
      },
      "id": "cvOwslJ4SgVu"
    },
    {
      "cell_type": "markdown",
      "source": [
        "I convert the data to csv format, because it makes it faster to load the data into pandas"
      ],
      "metadata": {
        "id": "NnyHbo6ASkrS"
      },
      "id": "NnyHbo6ASkrS"
    },
    {
      "cell_type": "code",
      "execution_count": 9,
      "id": "4ecaea0c",
      "metadata": {
        "id": "4ecaea0c"
      },
      "outputs": [],
      "source": [
        "train_test_devel_data_path = os.path.join(\"data\", \"train-devel-test\")\n",
        "train_test_devel_data_dirs = [os.path.join(train_test_devel_data_path, data_dir) for data_dir in os.listdir(train_test_devel_data_path) if os.path.isdir(os.path.join(train_test_devel_data_path, data_dir))]"
      ]
    },
    {
      "cell_type": "markdown",
      "source": [
        "## Get directories that contain data in the train-devel-test directory"
      ],
      "metadata": {
        "id": "068JBTWZSul0"
      },
      "id": "068JBTWZSul0"
    },
    {
      "cell_type": "code",
      "execution_count": 10,
      "id": "a1f33f1d",
      "metadata": {
        "id": "a1f33f1d"
      },
      "outputs": [],
      "source": [
        "def get_train_devel_test_conllup_file_dirs():\n",
        "    train_devel_test_conllup_file_dirs = {}\n",
        "    for d in train_test_devel_data_dirs:\n",
        "        connlup_file_dirs = [os.path.join(d, genre_dir, \"no-morph\") for genre_dir in os.listdir(d) if os.path.isdir(os.path.join(d, genre_dir)) and \"no-morph\" in os.listdir(os.path.join(d, genre_dir))]\n",
        "        train_devel_test_conllup_file_dirs[os.path.basename(d)] = connlup_file_dirs\n",
        "    return train_devel_test_conllup_file_dirs"
      ]
    },
    {
      "cell_type": "markdown",
      "source": [
        "### Filter .conllup files"
      ],
      "metadata": {
        "id": "i1bN_SQ7S6JW"
      },
      "id": "i1bN_SQ7S6JW"
    },
    {
      "cell_type": "code",
      "execution_count": 11,
      "id": "045b25e5",
      "metadata": {
        "id": "045b25e5"
      },
      "outputs": [],
      "source": [
        "import re\n",
        "connlup_file_pattern = re.compile(\".*.conllup\") \n",
        "def get_connlup_files_in_dir(path_to_dir):\n",
        "    return [f for f in os.listdir(path_to_dir) if connlup_file_pattern.match(f)]"
      ]
    },
    {
      "cell_type": "markdown",
      "source": [
        "### Print the found directories"
      ],
      "metadata": {
        "id": "m4aWW4CzTHBa"
      },
      "id": "m4aWW4CzTHBa"
    },
    {
      "cell_type": "code",
      "execution_count": 12,
      "id": "8762b1ee",
      "metadata": {
        "colab": {
          "base_uri": "https://localhost:8080/"
        },
        "id": "8762b1ee",
        "outputId": "bfd58b40-c39e-4b79-cd84-a9b28b5c49cc"
      },
      "outputs": [
        {
          "output_type": "execute_result",
          "data": {
            "text/plain": [
              "{'devel': ['data/train-devel-test/devel/legal/no-morph',\n",
              "  'data/train-devel-test/devel/news/no-morph',\n",
              "  'data/train-devel-test/devel/wikipedia/no-morph',\n",
              "  'data/train-devel-test/devel/fiction/no-morph'],\n",
              " 'test': ['data/train-devel-test/test/legal/no-morph',\n",
              "  'data/train-devel-test/test/news/no-morph',\n",
              "  'data/train-devel-test/test/wikipedia/no-morph',\n",
              "  'data/train-devel-test/test/fiction/no-morph'],\n",
              " 'train': ['data/train-devel-test/train/legal/no-morph',\n",
              "  'data/train-devel-test/train/news/no-morph',\n",
              "  'data/train-devel-test/train/wikipedia/no-morph',\n",
              "  'data/train-devel-test/train/fiction/no-morph']}"
            ]
          },
          "metadata": {},
          "execution_count": 12
        }
      ],
      "source": [
        "get_train_devel_test_conllup_file_dirs()"
      ]
    },
    {
      "cell_type": "markdown",
      "source": [
        "### Test .conllup file filtering"
      ],
      "metadata": {
        "id": "wxqxZrmCTlvg"
      },
      "id": "wxqxZrmCTlvg"
    },
    {
      "cell_type": "code",
      "execution_count": 13,
      "id": "d9ed2457",
      "metadata": {
        "colab": {
          "base_uri": "https://localhost:8080/"
        },
        "id": "d9ed2457",
        "outputId": "9f61777a-9de5-4bb4-926e-102a439a935b"
      },
      "outputs": [
        {
          "output_type": "execute_result",
          "data": {
            "text/plain": [
              "['dgt_1.conllup', 'eesc_22.conllup', 'jrc_11.conllup', 'const_3.conllup']"
            ]
          },
          "metadata": {},
          "execution_count": 13
        }
      ],
      "source": [
        "train_devel_test_conllup_file_dirs = get_train_devel_test_conllup_file_dirs()\n",
        "get_connlup_files_in_dir(train_devel_test_conllup_file_dirs[\"devel\"][0])"
      ]
    },
    {
      "cell_type": "markdown",
      "source": [
        "### Loading conllup files in a directory into a combined DataFrame"
      ],
      "metadata": {
        "id": "Wm-CTK7YTqpq"
      },
      "id": "Wm-CTK7YTqpq"
    },
    {
      "cell_type": "code",
      "execution_count": 14,
      "id": "253b1fe6",
      "metadata": {
        "id": "253b1fe6"
      },
      "outputs": [],
      "source": [
        "def load_all_conllup_files_in_dir(path_to_dir, train_test_devel, genre, save_intermediate_dataframes_to_csv = False):\n",
        "    conllup_file_paths = [os.path.join(path_to_dir, cf) for cf in get_connlup_files_in_dir(path_to_dir)]\n",
        "    combined_df = pd.DataFrame()\n",
        "    for conllup_file in conllup_file_paths:\n",
        "        print(conllup_file)\n",
        "        df = load_conllup_file(conllup_file)\n",
        "        df[\"train_test_devel\"] = train_test_devel # Add new \n",
        "        df[\"genre\"] = genre\n",
        "        df[\"file_path\"] = conllup_file\n",
        "        if save_intermediate_dataframes_to_csv:\n",
        "          df.to_csv(conllup_file.replace(\".conllup\", \".csv\"))\n",
        "        combined_df = pd.concat([combined_df, df])\n",
        "    return combined_df\n"
      ]
    },
    {
      "cell_type": "markdown",
      "source": [
        "### Test conllup file loading into a DataFrame"
      ],
      "metadata": {
        "id": "c2nChFT7T1QR"
      },
      "id": "c2nChFT7T1QR"
    },
    {
      "cell_type": "code",
      "execution_count": 15,
      "id": "1923a719",
      "metadata": {
        "colab": {
          "base_uri": "https://localhost:8080/"
        },
        "id": "1923a719",
        "outputId": "e2dece1d-b6fe-4e80-d4a0-9a77571cb519"
      },
      "outputs": [
        {
          "output_type": "stream",
          "name": "stdout",
          "text": [
            "data/train-devel-test/devel/legal/no-morph/dgt_1.conllup\n",
            "data/train-devel-test/devel/legal/no-morph/eesc_22.conllup\n",
            "data/train-devel-test/devel/legal/no-morph/jrc_11.conllup\n",
            "data/train-devel-test/devel/legal/no-morph/const_3.conllup\n"
          ]
        }
      ],
      "source": [
        "data = load_all_conllup_files_in_dir(train_devel_test_conllup_file_dirs[\"devel\"][0], \"devel\",train_devel_test_conllup_file_dirs[\"devel\"][0].split(os.path.sep)[-2])"
      ]
    },
    {
      "cell_type": "markdown",
      "source": [
        "As we can see even loading one folder can take ages, so it is better to convert to csv for faster loading."
      ],
      "metadata": {
        "id": "A5ij4StrVJjv"
      },
      "id": "A5ij4StrVJjv"
    },
    {
      "cell_type": "markdown",
      "source": [
        "## Getting word_counts and converting data to csv"
      ],
      "metadata": {
        "id": "kkNV5N-lT_Ho"
      },
      "id": "kkNV5N-lT_Ho"
    },
    {
      "cell_type": "code",
      "execution_count": 16,
      "id": "eb016ad0",
      "metadata": {
        "colab": {
          "base_uri": "https://localhost:8080/"
        },
        "id": "eb016ad0",
        "outputId": "0bee2a13-4a57-4957-f8e4-15a482b238bc"
      },
      "outputs": [
        {
          "output_type": "stream",
          "name": "stdout",
          "text": [
            "data/train-devel-test/devel/legal/no-morph\n",
            "data/train-devel-test/devel/legal/no-morph/dgt_1.conllup\n",
            "data/train-devel-test/devel/legal/no-morph/eesc_22.conllup\n",
            "data/train-devel-test/devel/legal/no-morph/jrc_11.conllup\n",
            "data/train-devel-test/devel/legal/no-morph/const_3.conllup\n",
            "data/train-devel-test/devel/news/no-morph\n",
            "data/train-devel-test/devel/news/no-morph/globalvoices_1.conllup\n",
            "data/train-devel-test/devel/news/no-morph/rapid_15.conllup\n",
            "data/train-devel-test/devel/news/no-morph/globalvoices_11.conllup\n",
            "data/train-devel-test/devel/news/no-morph/rapid_2.conllup\n",
            "data/train-devel-test/devel/news/no-morph/newscrawl_1.conllup\n",
            "data/train-devel-test/devel/wikipedia/no-morph\n",
            "data/train-devel-test/devel/wikipedia/no-morph/huwiki_200_71.conllup\n",
            "data/train-devel-test/devel/wikipedia/no-morph/huwiki_200_69.conllup\n",
            "data/train-devel-test/devel/wikipedia/no-morph/huwiki_200_70.conllup\n",
            "data/train-devel-test/devel/wikipedia/no-morph/huwiki_200_8.conllup\n",
            "data/train-devel-test/devel/wikipedia/no-morph/huwiki_200_9.conllup\n",
            "data/train-devel-test/devel/wikipedia/no-morph/huwiki_200_72.conllup\n",
            "data/train-devel-test/devel/wikipedia/no-morph/huwiki_200_5.conllup\n",
            "data/train-devel-test/devel/wikipedia/no-morph/huwiki_200_7.conllup\n",
            "data/train-devel-test/devel/fiction/no-morph\n",
            "data/train-devel-test/devel/fiction/no-morph/tanarur_1.conllup\n",
            "data/train-devel-test/devel/fiction/no-morph/opensubtitles_10.conllup\n",
            "data/train-devel-test/devel/fiction/no-morph/opensubtitles_2.conllup\n",
            "data/train-devel-test/devel/fiction/no-morph/tokmag_3.conllup\n",
            "data/train-devel-test/devel/fiction/no-morph/opensubtitles_13.conllup\n",
            "data/train-devel-test/devel/fiction/no-morph/opensubtitles_16.conllup\n",
            "data/train-devel-test/devel/fiction/no-morph/chilcote_16.conllup\n",
            "data/train-devel-test/devel/fiction/no-morph/opensubtitles_1.conllup\n",
            "data/train-devel-test/devel/fiction/no-morph/opensubtitles_18.conllup\n",
            "data/train-devel-test/devel/fiction/no-morph/opensubtitles_15.conllup\n",
            "data/train-devel-test/devel/fiction/no-morph/opensubtitles_17.conllup\n",
            "data/train-devel-test/devel/fiction/no-morph/opensubtitles_11.conllup\n",
            "data/train-devel-test/devel/fiction/no-morph/opensubtitles_19.conllup\n",
            "data/train-devel-test/devel/fiction/no-morph/opensubtitles_14.conllup\n",
            "data/train-devel-test/test/legal/no-morph\n",
            "data/train-devel-test/test/legal/no-morph/const_1.conllup\n",
            "data/train-devel-test/test/legal/no-morph/eesc_4.conllup\n",
            "data/train-devel-test/test/legal/no-morph/dgt_9.conllup\n",
            "data/train-devel-test/test/legal/no-morph/jrc_6.conllup\n",
            "data/train-devel-test/test/news/no-morph\n",
            "data/train-devel-test/test/news/no-morph/globalvoices_10.conllup\n",
            "data/train-devel-test/test/news/no-morph/rapid_7.conllup\n",
            "data/train-devel-test/test/news/no-morph/newscrawl_6.conllup\n",
            "data/train-devel-test/test/news/no-morph/rapid_9.conllup\n",
            "data/train-devel-test/test/news/no-morph/globalvoices_3.conllup\n",
            "data/train-devel-test/test/wikipedia/no-morph\n",
            "data/train-devel-test/test/wikipedia/no-morph/huwiki_200_68.conllup\n",
            "data/train-devel-test/test/wikipedia/no-morph/huwiki_200_67.conllup\n",
            "data/train-devel-test/test/wikipedia/no-morph/huwiki_200_65.conllup\n",
            "data/train-devel-test/test/wikipedia/no-morph/huwiki_200_66.conllup\n",
            "data/train-devel-test/test/wikipedia/no-morph/huwiki_200_62.conllup\n",
            "data/train-devel-test/test/wikipedia/no-morph/huwiki_200_64.conllup\n",
            "data/train-devel-test/test/wikipedia/no-morph/huwiki_200_63.conllup\n",
            "data/train-devel-test/test/fiction/no-morph\n",
            "data/train-devel-test/test/fiction/no-morph/opensubtitles_30.conllup\n",
            "data/train-devel-test/test/fiction/no-morph/opensubtitles_28.conllup\n",
            "data/train-devel-test/test/fiction/no-morph/tanarur_7.conllup\n",
            "data/train-devel-test/test/fiction/no-morph/opensubtitles_3.conllup\n",
            "data/train-devel-test/test/fiction/no-morph/opensubtitles_25.conllup\n",
            "data/train-devel-test/test/fiction/no-morph/opensubtitles_20.conllup\n",
            "data/train-devel-test/test/fiction/no-morph/opensubtitles_21.conllup\n",
            "data/train-devel-test/test/fiction/no-morph/chilcote_1.conllup\n",
            "data/train-devel-test/test/fiction/no-morph/opensubtitles_22.conllup\n",
            "data/train-devel-test/test/fiction/no-morph/tokmag_2.conllup\n",
            "data/train-devel-test/test/fiction/no-morph/opensubtitles_50.conllup\n",
            "data/train-devel-test/test/fiction/no-morph/opensubtitles_31.conllup\n",
            "data/train-devel-test/test/fiction/no-morph/opensubtitles_29.conllup\n",
            "data/train-devel-test/train/legal/no-morph\n",
            "data/train-devel-test/train/legal/no-morph/jrc_1.conllup\n",
            "data/train-devel-test/train/legal/no-morph/dgt_12.conllup\n",
            "data/train-devel-test/train/legal/no-morph/eesc_17.conllup\n",
            "data/train-devel-test/train/legal/no-morph/jrc_3.conllup\n",
            "data/train-devel-test/train/legal/no-morph/jrc_10.conllup\n",
            "data/train-devel-test/train/legal/no-morph/eesc_30.conllup\n",
            "data/train-devel-test/train/legal/no-morph/dgt_3.conllup\n",
            "data/train-devel-test/train/legal/no-morph/eesc_11.conllup\n",
            "data/train-devel-test/train/legal/no-morph/eesc_28.conllup\n",
            "data/train-devel-test/train/legal/no-morph/jrc_9.conllup\n",
            "data/train-devel-test/train/legal/no-morph/eesc_31.conllup\n",
            "data/train-devel-test/train/legal/no-morph/jrc_8.conllup\n",
            "data/train-devel-test/train/legal/no-morph/jrc_4.conllup\n",
            "data/train-devel-test/train/legal/no-morph/dgt_8.conllup\n",
            "data/train-devel-test/train/legal/no-morph/jrc_7.conllup\n",
            "data/train-devel-test/train/legal/no-morph/dgt_4.conllup\n",
            "data/train-devel-test/train/legal/no-morph/dgt_2.conllup\n",
            "data/train-devel-test/train/legal/no-morph/jrc_5.conllup\n",
            "data/train-devel-test/train/legal/no-morph/const_2.conllup\n",
            "data/train-devel-test/train/legal/no-morph/eesc_1.conllup\n",
            "data/train-devel-test/train/legal/no-morph/eesc_25.conllup\n",
            "data/train-devel-test/train/legal/no-morph/eesc_3.conllup\n",
            "data/train-devel-test/train/legal/no-morph/dgt_10.conllup\n",
            "data/train-devel-test/train/legal/no-morph/dgt_11.conllup\n",
            "data/train-devel-test/train/legal/no-morph/dgt_7.conllup\n",
            "data/train-devel-test/train/legal/no-morph/dgt_6.conllup\n",
            "data/train-devel-test/train/legal/no-morph/eesc_2.conllup\n",
            "data/train-devel-test/train/legal/no-morph/eesc_19.conllup\n",
            "data/train-devel-test/train/legal/no-morph/dgt_5.conllup\n",
            "data/train-devel-test/train/legal/no-morph/eesc_18.conllup\n",
            "data/train-devel-test/train/legal/no-morph/jrc_2.conllup\n",
            "data/train-devel-test/train/news/no-morph\n",
            "data/train-devel-test/train/news/no-morph/globalvoices_16.conllup\n",
            "data/train-devel-test/train/news/no-morph/newscrawl_12.conllup\n",
            "data/train-devel-test/train/news/no-morph/newscrawl_2.conllup\n",
            "data/train-devel-test/train/news/no-morph/globalvoices_12.conllup\n",
            "data/train-devel-test/train/news/no-morph/rapid_13.conllup\n",
            "data/train-devel-test/train/news/no-morph/globalvoices_7.conllup\n",
            "data/train-devel-test/train/news/no-morph/newscrawl_3.conllup\n",
            "data/train-devel-test/train/news/no-morph/rapid_4.conllup\n",
            "data/train-devel-test/train/news/no-morph/globalvoices_14.conllup\n",
            "data/train-devel-test/train/news/no-morph/globalvoices_13.conllup\n",
            "data/train-devel-test/train/news/no-morph/globalvoices_6.conllup\n",
            "data/train-devel-test/train/news/no-morph/rapid_10.conllup\n",
            "data/train-devel-test/train/news/no-morph/newscrawl_5.conllup\n",
            "data/train-devel-test/train/news/no-morph/rapid_11.conllup\n",
            "data/train-devel-test/train/news/no-morph/rapid_1.conllup\n",
            "data/train-devel-test/train/news/no-morph/newscrawl_8.conllup\n",
            "data/train-devel-test/train/news/no-morph/rapid_6.conllup\n",
            "data/train-devel-test/train/news/no-morph/globalvoices_8.conllup\n",
            "data/train-devel-test/train/news/no-morph/globalvoices_15.conllup\n",
            "data/train-devel-test/train/news/no-morph/rapid_5.conllup\n",
            "data/train-devel-test/train/news/no-morph/newscrawl_4.conllup\n",
            "data/train-devel-test/train/news/no-morph/rapid_3.conllup\n",
            "data/train-devel-test/train/news/no-morph/globalvoices_17.conllup\n",
            "data/train-devel-test/train/news/no-morph/globalvoices_4.conllup\n",
            "data/train-devel-test/train/news/no-morph/rapid_12.conllup\n",
            "data/train-devel-test/train/news/no-morph/newscrawl_11.conllup\n",
            "data/train-devel-test/train/news/no-morph/globalvoices_19.conllup\n",
            "data/train-devel-test/train/news/no-morph/newscrawl_7.conllup\n",
            "data/train-devel-test/train/news/no-morph/newscrawl_9.conllup\n",
            "data/train-devel-test/train/news/no-morph/globalvoices_20.conllup\n",
            "data/train-devel-test/train/news/no-morph/globalvoices_2.conllup\n",
            "data/train-devel-test/train/news/no-morph/newscrawl_10.conllup\n",
            "data/train-devel-test/train/news/no-morph/globalvoices_5.conllup\n",
            "data/train-devel-test/train/news/no-morph/globalvoices_18.conllup\n",
            "data/train-devel-test/train/news/no-morph/globalvoices_9.conllup\n",
            "data/train-devel-test/train/news/no-morph/rapid_14.conllup\n",
            "data/train-devel-test/train/news/no-morph/rapid_8.conllup\n",
            "data/train-devel-test/train/wikipedia/no-morph\n",
            "data/train-devel-test/train/wikipedia/no-morph/huwiki_200_43.conllup\n",
            "data/train-devel-test/train/wikipedia/no-morph/huwiki_200_37.conllup\n",
            "data/train-devel-test/train/wikipedia/no-morph/huwiki_200_20.conllup\n",
            "data/train-devel-test/train/wikipedia/no-morph/huwiki_200_51.conllup\n",
            "data/train-devel-test/train/wikipedia/no-morph/huwiki_200_18.conllup\n",
            "data/train-devel-test/train/wikipedia/no-morph/huwiki_200_23.conllup\n",
            "data/train-devel-test/train/wikipedia/no-morph/huwiki_200_40.conllup\n",
            "data/train-devel-test/train/wikipedia/no-morph/huwiki_200_53.conllup\n",
            "data/train-devel-test/train/wikipedia/no-morph/huwiki_200_61.conllup\n",
            "data/train-devel-test/train/wikipedia/no-morph/huwiki_200_55.conllup\n",
            "data/train-devel-test/train/wikipedia/no-morph/huwiki_200_39.conllup\n",
            "data/train-devel-test/train/wikipedia/no-morph/huwiki_200_32.conllup\n",
            "data/train-devel-test/train/wikipedia/no-morph/huwiki_200_52.conllup\n",
            "data/train-devel-test/train/wikipedia/no-morph/huwiki_200_49.conllup\n",
            "data/train-devel-test/train/wikipedia/no-morph/huwiki_200_3.conllup\n",
            "data/train-devel-test/train/wikipedia/no-morph/huwiki_200_26.conllup\n",
            "data/train-devel-test/train/wikipedia/no-morph/huwiki_200_46.conllup\n",
            "data/train-devel-test/train/wikipedia/no-morph/huwiki_200_36.conllup\n",
            "data/train-devel-test/train/wikipedia/no-morph/huwiki_200_12.conllup\n",
            "data/train-devel-test/train/wikipedia/no-morph/huwiki_200_21.conllup\n",
            "data/train-devel-test/train/wikipedia/no-morph/huwiki_200_47.conllup\n",
            "data/train-devel-test/train/wikipedia/no-morph/huwiki_200_19.conllup\n",
            "data/train-devel-test/train/wikipedia/no-morph/huwiki_200_1.conllup\n",
            "data/train-devel-test/train/wikipedia/no-morph/huwiki_200_50.conllup\n",
            "data/train-devel-test/train/wikipedia/no-morph/huwiki_200_33.conllup\n",
            "data/train-devel-test/train/wikipedia/no-morph/huwiki_200_38.conllup\n",
            "data/train-devel-test/train/wikipedia/no-morph/huwiki_200_24.conllup\n",
            "data/train-devel-test/train/wikipedia/no-morph/huwiki_200_15.conllup\n",
            "data/train-devel-test/train/wikipedia/no-morph/huwiki_200_11.conllup\n",
            "data/train-devel-test/train/wikipedia/no-morph/huwiki_200_41.conllup\n",
            "data/train-devel-test/train/wikipedia/no-morph/huwiki_200_14.conllup\n",
            "data/train-devel-test/train/wikipedia/no-morph/huwiki_200_44.conllup\n",
            "data/train-devel-test/train/wikipedia/no-morph/huwiki_200_48.conllup\n",
            "data/train-devel-test/train/wikipedia/no-morph/huwiki_200_58.conllup\n",
            "data/train-devel-test/train/wikipedia/no-morph/huwiki_200_56.conllup\n",
            "data/train-devel-test/train/wikipedia/no-morph/huwiki_200_54.conllup\n",
            "data/train-devel-test/train/wikipedia/no-morph/huwiki_200_22.conllup\n",
            "data/train-devel-test/train/wikipedia/no-morph/huwiki_200_16.conllup\n",
            "data/train-devel-test/train/wikipedia/no-morph/huwiki_200_45.conllup\n",
            "data/train-devel-test/train/wikipedia/no-morph/huwiki_200_6.conllup\n",
            "data/train-devel-test/train/wikipedia/no-morph/huwiki_200_4.conllup\n",
            "data/train-devel-test/train/wikipedia/no-morph/huwiki_200_28.conllup\n",
            "data/train-devel-test/train/wikipedia/no-morph/huwiki_200_27.conllup\n",
            "data/train-devel-test/train/wikipedia/no-morph/huwiki_200_30.conllup\n",
            "data/train-devel-test/train/wikipedia/no-morph/huwiki_200_59.conllup\n",
            "data/train-devel-test/train/wikipedia/no-morph/huwiki_200_60.conllup\n",
            "data/train-devel-test/train/wikipedia/no-morph/huwiki_200_31.conllup\n",
            "data/train-devel-test/train/wikipedia/no-morph/huwiki_200_17.conllup\n",
            "data/train-devel-test/train/wikipedia/no-morph/huwiki_200_34.conllup\n",
            "data/train-devel-test/train/wikipedia/no-morph/huwiki_200_13.conllup\n",
            "data/train-devel-test/train/wikipedia/no-morph/huwiki_200_25.conllup\n",
            "data/train-devel-test/train/wikipedia/no-morph/huwiki_200_42.conllup\n",
            "data/train-devel-test/train/wikipedia/no-morph/huwiki_200_10.conllup\n",
            "data/train-devel-test/train/wikipedia/no-morph/huwiki_200_2.conllup\n",
            "data/train-devel-test/train/wikipedia/no-morph/huwiki_200_57.conllup\n",
            "data/train-devel-test/train/wikipedia/no-morph/huwiki_200_35.conllup\n",
            "data/train-devel-test/train/wikipedia/no-morph/huwiki_200_29.conllup\n",
            "data/train-devel-test/train/fiction/no-morph\n",
            "data/train-devel-test/train/fiction/no-morph/opensubtitles_83.conllup\n",
            "data/train-devel-test/train/fiction/no-morph/opensubtitles_57.conllup\n",
            "data/train-devel-test/train/fiction/no-morph/opensubtitles_34.conllup\n",
            "data/train-devel-test/train/fiction/no-morph/kepzelet_1.conllup\n",
            "data/train-devel-test/train/fiction/no-morph/opensubtitles_91.conllup\n",
            "data/train-devel-test/train/fiction/no-morph/opensubtitles_7.conllup\n",
            "data/train-devel-test/train/fiction/no-morph/opensubtitles_6.conllup\n",
            "data/train-devel-test/train/fiction/no-morph/opensubtitles_62.conllup\n",
            "data/train-devel-test/train/fiction/no-morph/tanarur_4.conllup\n",
            "data/train-devel-test/train/fiction/no-morph/tanarur_2.conllup\n",
            "data/train-devel-test/train/fiction/no-morph/opensubtitles_51.conllup\n",
            "data/train-devel-test/train/fiction/no-morph/opensubtitles_39.conllup\n",
            "data/train-devel-test/train/fiction/no-morph/opensubtitles_52.conllup\n",
            "data/train-devel-test/train/fiction/no-morph/opensubtitles_90.conllup\n",
            "data/train-devel-test/train/fiction/no-morph/opensubtitles_5.conllup\n",
            "data/train-devel-test/train/fiction/no-morph/opensubtitles_98.conllup\n",
            "data/train-devel-test/train/fiction/no-morph/opensubtitles_9.conllup\n",
            "data/train-devel-test/train/fiction/no-morph/chilcote_17.conllup\n",
            "data/train-devel-test/train/fiction/no-morph/opensubtitles_78.conllup\n",
            "data/train-devel-test/train/fiction/no-morph/opensubtitles_38.conllup\n",
            "data/train-devel-test/train/fiction/no-morph/opensubtitles_89.conllup\n",
            "data/train-devel-test/train/fiction/no-morph/opensubtitles_53.conllup\n",
            "data/train-devel-test/train/fiction/no-morph/opensubtitles_32.conllup\n",
            "data/train-devel-test/train/fiction/no-morph/opensubtitles_48.conllup\n",
            "data/train-devel-test/train/fiction/no-morph/chilcote_23.conllup\n",
            "data/train-devel-test/train/fiction/no-morph/opensubtitles_49.conllup\n",
            "data/train-devel-test/train/fiction/no-morph/opensubtitles_66.conllup\n",
            "data/train-devel-test/train/fiction/no-morph/opensubtitles_60.conllup\n",
            "data/train-devel-test/train/fiction/no-morph/opensubtitles_95.conllup\n",
            "data/train-devel-test/train/fiction/no-morph/chilcote_29.conllup\n",
            "data/train-devel-test/train/fiction/no-morph/opensubtitles_4.conllup\n",
            "data/train-devel-test/train/fiction/no-morph/opensubtitles_69.conllup\n",
            "data/train-devel-test/train/fiction/no-morph/opensubtitles_80.conllup\n",
            "data/train-devel-test/train/fiction/no-morph/opensubtitles_45.conllup\n",
            "data/train-devel-test/train/fiction/no-morph/opensubtitles_59.conllup\n",
            "data/train-devel-test/train/fiction/no-morph/chilcote_14.conllup\n",
            "data/train-devel-test/train/fiction/no-morph/opensubtitles_68.conllup\n",
            "data/train-devel-test/train/fiction/no-morph/opensubtitles_27.conllup\n",
            "data/train-devel-test/train/fiction/no-morph/opensubtitles_84.conllup\n",
            "data/train-devel-test/train/fiction/no-morph/opensubtitles_40.conllup\n",
            "data/train-devel-test/train/fiction/no-morph/opensubtitles_81.conllup\n",
            "data/train-devel-test/train/fiction/no-morph/opensubtitles_64.conllup\n",
            "data/train-devel-test/train/fiction/no-morph/opensubtitles_76.conllup\n",
            "data/train-devel-test/train/fiction/no-morph/tokmag_1.conllup\n",
            "data/train-devel-test/train/fiction/no-morph/opensubtitles_55.conllup\n",
            "data/train-devel-test/train/fiction/no-morph/chilcote_18.conllup\n",
            "data/train-devel-test/train/fiction/no-morph/opensubtitles_44.conllup\n",
            "data/train-devel-test/train/fiction/no-morph/opensubtitles_79.conllup\n",
            "data/train-devel-test/train/fiction/no-morph/tokmag_5.conllup\n",
            "data/train-devel-test/train/fiction/no-morph/tokmag_4.conllup\n",
            "data/train-devel-test/train/fiction/no-morph/opensubtitles_74.conllup\n",
            "data/train-devel-test/train/fiction/no-morph/opensubtitles_71.conllup\n",
            "data/train-devel-test/train/fiction/no-morph/tanarur_3.conllup\n",
            "data/train-devel-test/train/fiction/no-morph/opensubtitles_42.conllup\n",
            "data/train-devel-test/train/fiction/no-morph/tanarur_6.conllup\n",
            "data/train-devel-test/train/fiction/no-morph/opensubtitles_99.conllup\n",
            "data/train-devel-test/train/fiction/no-morph/opensubtitles_86.conllup\n",
            "data/train-devel-test/train/fiction/no-morph/opensubtitles_96.conllup\n",
            "data/train-devel-test/train/fiction/no-morph/opensubtitles_92.conllup\n",
            "data/train-devel-test/train/fiction/no-morph/opensubtitles_43.conllup\n",
            "data/train-devel-test/train/fiction/no-morph/opensubtitles_87.conllup\n",
            "data/train-devel-test/train/fiction/no-morph/tokmag_13.conllup\n",
            "data/train-devel-test/train/fiction/no-morph/opensubtitles_41.conllup\n",
            "data/train-devel-test/train/fiction/no-morph/opensubtitles_63.conllup\n",
            "data/train-devel-test/train/fiction/no-morph/tokmag_6.conllup\n",
            "data/train-devel-test/train/fiction/no-morph/opensubtitles_58.conllup\n",
            "data/train-devel-test/train/fiction/no-morph/chilcote_27.conllup\n",
            "data/train-devel-test/train/fiction/no-morph/opensubtitles_70.conllup\n",
            "data/train-devel-test/train/fiction/no-morph/opensubtitles_24.conllup\n",
            "data/train-devel-test/train/fiction/no-morph/opensubtitles_97.conllup\n",
            "data/train-devel-test/train/fiction/no-morph/opensubtitles_67.conllup\n",
            "data/train-devel-test/train/fiction/no-morph/opensubtitles_46.conllup\n",
            "data/train-devel-test/train/fiction/no-morph/opensubtitles_94.conllup\n",
            "data/train-devel-test/train/fiction/no-morph/opensubtitles_37.conllup\n",
            "data/train-devel-test/train/fiction/no-morph/opensubtitles_23.conllup\n",
            "data/train-devel-test/train/fiction/no-morph/tanarur_5.conllup\n",
            "data/train-devel-test/train/fiction/no-morph/opensubtitles_33.conllup\n",
            "data/train-devel-test/train/fiction/no-morph/opensubtitles_54.conllup\n",
            "data/train-devel-test/train/fiction/no-morph/opensubtitles_26.conllup\n",
            "data/train-devel-test/train/fiction/no-morph/opensubtitles_73.conllup\n",
            "data/train-devel-test/train/fiction/no-morph/opensubtitles_72.conllup\n",
            "data/train-devel-test/train/fiction/no-morph/opensubtitles_77.conllup\n",
            "data/train-devel-test/train/fiction/no-morph/opensubtitles_47.conllup\n",
            "data/train-devel-test/train/fiction/no-morph/chilcote_12.conllup\n",
            "data/train-devel-test/train/fiction/no-morph/opensubtitles_88.conllup\n",
            "data/train-devel-test/train/fiction/no-morph/opensubtitles_65.conllup\n",
            "data/train-devel-test/train/fiction/no-morph/opensubtitles_56.conllup\n",
            "data/train-devel-test/train/fiction/no-morph/opensubtitles_35.conllup\n",
            "data/train-devel-test/train/fiction/no-morph/opensubtitles_36.conllup\n",
            "data/train-devel-test/train/fiction/no-morph/opensubtitles_93.conllup\n",
            "data/train-devel-test/train/fiction/no-morph/opensubtitles_85.conllup\n",
            "data/train-devel-test/train/fiction/no-morph/opensubtitles_75.conllup\n",
            "data/train-devel-test/train/fiction/no-morph/opensubtitles_8.conllup\n",
            "data/train-devel-test/train/fiction/no-morph/opensubtitles_61.conllup\n",
            "data/train-devel-test/train/fiction/no-morph/opensubtitles_82.conllup\n",
            "{'devel': {'legal': {'word_count': 22647, 'unique_words': 6858}, 'news': {'word_count': 19849, 'unique_words': 7726}, 'wikipedia': {'word_count': 20066, 'unique_words': 7724}, 'fiction': {'word_count': 20870, 'unique_words': 6294}}, 'test': {'legal': {'word_count': 22040, 'unique_words': 7041}, 'news': {'word_count': 20848, 'unique_words': 7838}, 'wikipedia': {'word_count': 19378, 'unique_words': 7704}, 'fiction': {'word_count': 20814, 'unique_words': 6425}}, 'train': {'legal': {'word_count': 158152, 'unique_words': 28352}, 'news': {'word_count': 163779, 'unique_words': 36976}, 'wikipedia': {'word_count': 154517, 'unique_words': 35972}, 'fiction': {'word_count': 161410, 'unique_words': 31070}}}\n"
          ]
        }
      ],
      "source": [
        "\n",
        "word_counts = {}\n",
        "for data_set in train_devel_test_conllup_file_dirs:\n",
        "    word_counts[data_set] = {}\n",
        "    for genre_dir in train_devel_test_conllup_file_dirs[data_set]:\n",
        "        print(genre_dir)\n",
        "        genre = genre_dir.split(os.path.sep)[-2]\n",
        "        df = load_all_conllup_files_in_dir(genre_dir, data_set, genre, True)\n",
        "        df.to_csv(os.path.join(genre_dir, f\"{genre}_full.csv\"))\n",
        "        word_counts[data_set][genre] = {\"word_count\": len(df), \"unique_words\": len(df[\"FORM\"].unique())}\n",
        "print(word_counts)\n"
      ]
    },
    {
      "cell_type": "markdown",
      "source": [
        "This took a lot of time, but now that we have the data in csv format, we are good to go."
      ],
      "metadata": {
        "id": "1YJJugT1XCIx"
      },
      "id": "1YJJugT1XCIx"
    },
    {
      "cell_type": "markdown",
      "source": [
        "### Saving the word_count result to a json file for later usage"
      ],
      "metadata": {
        "id": "5SbBEaWBV9W5"
      },
      "id": "5SbBEaWBV9W5"
    },
    {
      "cell_type": "code",
      "execution_count": 17,
      "id": "962f3c1a",
      "metadata": {
        "id": "962f3c1a"
      },
      "outputs": [],
      "source": [
        "import json\n",
        "with open(\"word_count.json\", \"w\") as f:\n",
        "    json.dump(word_counts, f )"
      ]
    },
    {
      "cell_type": "markdown",
      "source": [
        "Now we have a train, devel and test dataset in csv form. The The inputs of the learning process will be the FORM of each word. The loading of each dataset can be done with the load_csv_files_from_dir function by passing the dataset folder's path as a parameter. After the loading further processing like selecting only the FORM column for train data and selecting the CONLL:NER column for devel and test datasets, but this will be done with our learning algorithm."
      ],
      "metadata": {
        "id": "-56gpImX79gu"
      },
      "id": "-56gpImX79gu"
    },
    {
      "cell_type": "markdown",
      "source": [
        "# Visualizing the data"
      ],
      "metadata": {
        "id": "O_nzL9LSV0jp"
      },
      "id": "O_nzL9LSV0jp"
    },
    {
      "cell_type": "markdown",
      "source": [
        "## Loading the csv files from directories"
      ],
      "metadata": {
        "id": "tPf4DzEvWKrP"
      },
      "id": "tPf4DzEvWKrP"
    },
    {
      "cell_type": "code",
      "execution_count": 18,
      "id": "06a5464a",
      "metadata": {
        "id": "06a5464a"
      },
      "outputs": [],
      "source": [
        "\n",
        "def load_csv_files_from_dir(path_to_dir):\n",
        "    csv_files = [os.path.join(path_to_dir,f) for f in os.listdir(path_to_dir) if f.find(\".csv\") != -1 and f.find(\"_full.csv\") == -1]\n",
        "    df = pd.DataFrame()\n",
        "    for csv_file in csv_files:\n",
        "        temp_df = pd.read_csv(csv_file, index_col=0)\n",
        "        df = pd.concat([df, temp_df])\n",
        "    return df"
      ]
    },
    {
      "cell_type": "markdown",
      "source": [
        "### Testing the csv file loading "
      ],
      "metadata": {
        "id": "pKiExcdUWWcC"
      },
      "id": "pKiExcdUWWcC"
    },
    {
      "cell_type": "code",
      "execution_count": 19,
      "id": "05035f25",
      "metadata": {
        "colab": {
          "base_uri": "https://localhost:8080/",
          "height": 424
        },
        "id": "05035f25",
        "outputId": "693466c5-6bed-42a0-c76a-ba5d306e8e68"
      },
      "outputs": [
        {
          "output_type": "execute_result",
          "data": {
            "text/plain": [
              "      sentence_index  position_number_in_sentence        FORM LEMMA UPOS XPOS  \\\n",
              "0                  0                            0          Ha     _    _    _   \n",
              "1                  0                            1          az     _    _    _   \n",
              "2                  0                            2      egység     _    _    _   \n",
              "3                  0                            3         egy     _    _    _   \n",
              "4                  0                            4       2004.     _    _    _   \n",
              "...              ...                          ...         ...   ...  ...  ...   \n",
              "5780             201                           28  amennyiben     _    _    _   \n",
              "5781             201                           29   szükséges     _    _    _   \n",
              "5782             201                           30           –     _    _    _   \n",
              "5783             201                           31  kiigazítja     _    _    _   \n",
              "5784             201                           32           .     _    _    _   \n",
              "\n",
              "     FEATS CONLL:NER train_test_devel  genre  \\\n",
              "0        _         O             test  legal   \n",
              "1        _         O             test  legal   \n",
              "2        _         O             test  legal   \n",
              "3        _         O             test  legal   \n",
              "4        _         O             test  legal   \n",
              "...    ...       ...              ...    ...   \n",
              "5780     _         O             test  legal   \n",
              "5781     _         O             test  legal   \n",
              "5782     _         O             test  legal   \n",
              "5783     _         O             test  legal   \n",
              "5784     _         O             test  legal   \n",
              "\n",
              "                                              file_path  \n",
              "0     data/train-devel-test/test/legal/no-morph/dgt_...  \n",
              "1     data/train-devel-test/test/legal/no-morph/dgt_...  \n",
              "2     data/train-devel-test/test/legal/no-morph/dgt_...  \n",
              "3     data/train-devel-test/test/legal/no-morph/dgt_...  \n",
              "4     data/train-devel-test/test/legal/no-morph/dgt_...  \n",
              "...                                                 ...  \n",
              "5780  data/train-devel-test/test/legal/no-morph/cons...  \n",
              "5781  data/train-devel-test/test/legal/no-morph/cons...  \n",
              "5782  data/train-devel-test/test/legal/no-morph/cons...  \n",
              "5783  data/train-devel-test/test/legal/no-morph/cons...  \n",
              "5784  data/train-devel-test/test/legal/no-morph/cons...  \n",
              "\n",
              "[22040 rows x 11 columns]"
            ],
            "text/html": [
              "\n",
              "  <div id=\"df-41e7de14-0c2f-486f-a463-d305bd934d77\">\n",
              "    <div class=\"colab-df-container\">\n",
              "      <div>\n",
              "<style scoped>\n",
              "    .dataframe tbody tr th:only-of-type {\n",
              "        vertical-align: middle;\n",
              "    }\n",
              "\n",
              "    .dataframe tbody tr th {\n",
              "        vertical-align: top;\n",
              "    }\n",
              "\n",
              "    .dataframe thead th {\n",
              "        text-align: right;\n",
              "    }\n",
              "</style>\n",
              "<table border=\"1\" class=\"dataframe\">\n",
              "  <thead>\n",
              "    <tr style=\"text-align: right;\">\n",
              "      <th></th>\n",
              "      <th>sentence_index</th>\n",
              "      <th>position_number_in_sentence</th>\n",
              "      <th>FORM</th>\n",
              "      <th>LEMMA</th>\n",
              "      <th>UPOS</th>\n",
              "      <th>XPOS</th>\n",
              "      <th>FEATS</th>\n",
              "      <th>CONLL:NER</th>\n",
              "      <th>train_test_devel</th>\n",
              "      <th>genre</th>\n",
              "      <th>file_path</th>\n",
              "    </tr>\n",
              "  </thead>\n",
              "  <tbody>\n",
              "    <tr>\n",
              "      <th>0</th>\n",
              "      <td>0</td>\n",
              "      <td>0</td>\n",
              "      <td>Ha</td>\n",
              "      <td>_</td>\n",
              "      <td>_</td>\n",
              "      <td>_</td>\n",
              "      <td>_</td>\n",
              "      <td>O</td>\n",
              "      <td>test</td>\n",
              "      <td>legal</td>\n",
              "      <td>data/train-devel-test/test/legal/no-morph/dgt_...</td>\n",
              "    </tr>\n",
              "    <tr>\n",
              "      <th>1</th>\n",
              "      <td>0</td>\n",
              "      <td>1</td>\n",
              "      <td>az</td>\n",
              "      <td>_</td>\n",
              "      <td>_</td>\n",
              "      <td>_</td>\n",
              "      <td>_</td>\n",
              "      <td>O</td>\n",
              "      <td>test</td>\n",
              "      <td>legal</td>\n",
              "      <td>data/train-devel-test/test/legal/no-morph/dgt_...</td>\n",
              "    </tr>\n",
              "    <tr>\n",
              "      <th>2</th>\n",
              "      <td>0</td>\n",
              "      <td>2</td>\n",
              "      <td>egység</td>\n",
              "      <td>_</td>\n",
              "      <td>_</td>\n",
              "      <td>_</td>\n",
              "      <td>_</td>\n",
              "      <td>O</td>\n",
              "      <td>test</td>\n",
              "      <td>legal</td>\n",
              "      <td>data/train-devel-test/test/legal/no-morph/dgt_...</td>\n",
              "    </tr>\n",
              "    <tr>\n",
              "      <th>3</th>\n",
              "      <td>0</td>\n",
              "      <td>3</td>\n",
              "      <td>egy</td>\n",
              "      <td>_</td>\n",
              "      <td>_</td>\n",
              "      <td>_</td>\n",
              "      <td>_</td>\n",
              "      <td>O</td>\n",
              "      <td>test</td>\n",
              "      <td>legal</td>\n",
              "      <td>data/train-devel-test/test/legal/no-morph/dgt_...</td>\n",
              "    </tr>\n",
              "    <tr>\n",
              "      <th>4</th>\n",
              "      <td>0</td>\n",
              "      <td>4</td>\n",
              "      <td>2004.</td>\n",
              "      <td>_</td>\n",
              "      <td>_</td>\n",
              "      <td>_</td>\n",
              "      <td>_</td>\n",
              "      <td>O</td>\n",
              "      <td>test</td>\n",
              "      <td>legal</td>\n",
              "      <td>data/train-devel-test/test/legal/no-morph/dgt_...</td>\n",
              "    </tr>\n",
              "    <tr>\n",
              "      <th>...</th>\n",
              "      <td>...</td>\n",
              "      <td>...</td>\n",
              "      <td>...</td>\n",
              "      <td>...</td>\n",
              "      <td>...</td>\n",
              "      <td>...</td>\n",
              "      <td>...</td>\n",
              "      <td>...</td>\n",
              "      <td>...</td>\n",
              "      <td>...</td>\n",
              "      <td>...</td>\n",
              "    </tr>\n",
              "    <tr>\n",
              "      <th>5780</th>\n",
              "      <td>201</td>\n",
              "      <td>28</td>\n",
              "      <td>amennyiben</td>\n",
              "      <td>_</td>\n",
              "      <td>_</td>\n",
              "      <td>_</td>\n",
              "      <td>_</td>\n",
              "      <td>O</td>\n",
              "      <td>test</td>\n",
              "      <td>legal</td>\n",
              "      <td>data/train-devel-test/test/legal/no-morph/cons...</td>\n",
              "    </tr>\n",
              "    <tr>\n",
              "      <th>5781</th>\n",
              "      <td>201</td>\n",
              "      <td>29</td>\n",
              "      <td>szükséges</td>\n",
              "      <td>_</td>\n",
              "      <td>_</td>\n",
              "      <td>_</td>\n",
              "      <td>_</td>\n",
              "      <td>O</td>\n",
              "      <td>test</td>\n",
              "      <td>legal</td>\n",
              "      <td>data/train-devel-test/test/legal/no-morph/cons...</td>\n",
              "    </tr>\n",
              "    <tr>\n",
              "      <th>5782</th>\n",
              "      <td>201</td>\n",
              "      <td>30</td>\n",
              "      <td>–</td>\n",
              "      <td>_</td>\n",
              "      <td>_</td>\n",
              "      <td>_</td>\n",
              "      <td>_</td>\n",
              "      <td>O</td>\n",
              "      <td>test</td>\n",
              "      <td>legal</td>\n",
              "      <td>data/train-devel-test/test/legal/no-morph/cons...</td>\n",
              "    </tr>\n",
              "    <tr>\n",
              "      <th>5783</th>\n",
              "      <td>201</td>\n",
              "      <td>31</td>\n",
              "      <td>kiigazítja</td>\n",
              "      <td>_</td>\n",
              "      <td>_</td>\n",
              "      <td>_</td>\n",
              "      <td>_</td>\n",
              "      <td>O</td>\n",
              "      <td>test</td>\n",
              "      <td>legal</td>\n",
              "      <td>data/train-devel-test/test/legal/no-morph/cons...</td>\n",
              "    </tr>\n",
              "    <tr>\n",
              "      <th>5784</th>\n",
              "      <td>201</td>\n",
              "      <td>32</td>\n",
              "      <td>.</td>\n",
              "      <td>_</td>\n",
              "      <td>_</td>\n",
              "      <td>_</td>\n",
              "      <td>_</td>\n",
              "      <td>O</td>\n",
              "      <td>test</td>\n",
              "      <td>legal</td>\n",
              "      <td>data/train-devel-test/test/legal/no-morph/cons...</td>\n",
              "    </tr>\n",
              "  </tbody>\n",
              "</table>\n",
              "<p>22040 rows × 11 columns</p>\n",
              "</div>\n",
              "      <button class=\"colab-df-convert\" onclick=\"convertToInteractive('df-41e7de14-0c2f-486f-a463-d305bd934d77')\"\n",
              "              title=\"Convert this dataframe to an interactive table.\"\n",
              "              style=\"display:none;\">\n",
              "        \n",
              "  <svg xmlns=\"http://www.w3.org/2000/svg\" height=\"24px\"viewBox=\"0 0 24 24\"\n",
              "       width=\"24px\">\n",
              "    <path d=\"M0 0h24v24H0V0z\" fill=\"none\"/>\n",
              "    <path d=\"M18.56 5.44l.94 2.06.94-2.06 2.06-.94-2.06-.94-.94-2.06-.94 2.06-2.06.94zm-11 1L8.5 8.5l.94-2.06 2.06-.94-2.06-.94L8.5 2.5l-.94 2.06-2.06.94zm10 10l.94 2.06.94-2.06 2.06-.94-2.06-.94-.94-2.06-.94 2.06-2.06.94z\"/><path d=\"M17.41 7.96l-1.37-1.37c-.4-.4-.92-.59-1.43-.59-.52 0-1.04.2-1.43.59L10.3 9.45l-7.72 7.72c-.78.78-.78 2.05 0 2.83L4 21.41c.39.39.9.59 1.41.59.51 0 1.02-.2 1.41-.59l7.78-7.78 2.81-2.81c.8-.78.8-2.07 0-2.86zM5.41 20L4 18.59l7.72-7.72 1.47 1.35L5.41 20z\"/>\n",
              "  </svg>\n",
              "      </button>\n",
              "      \n",
              "  <style>\n",
              "    .colab-df-container {\n",
              "      display:flex;\n",
              "      flex-wrap:wrap;\n",
              "      gap: 12px;\n",
              "    }\n",
              "\n",
              "    .colab-df-convert {\n",
              "      background-color: #E8F0FE;\n",
              "      border: none;\n",
              "      border-radius: 50%;\n",
              "      cursor: pointer;\n",
              "      display: none;\n",
              "      fill: #1967D2;\n",
              "      height: 32px;\n",
              "      padding: 0 0 0 0;\n",
              "      width: 32px;\n",
              "    }\n",
              "\n",
              "    .colab-df-convert:hover {\n",
              "      background-color: #E2EBFA;\n",
              "      box-shadow: 0px 1px 2px rgba(60, 64, 67, 0.3), 0px 1px 3px 1px rgba(60, 64, 67, 0.15);\n",
              "      fill: #174EA6;\n",
              "    }\n",
              "\n",
              "    [theme=dark] .colab-df-convert {\n",
              "      background-color: #3B4455;\n",
              "      fill: #D2E3FC;\n",
              "    }\n",
              "\n",
              "    [theme=dark] .colab-df-convert:hover {\n",
              "      background-color: #434B5C;\n",
              "      box-shadow: 0px 1px 3px 1px rgba(0, 0, 0, 0.15);\n",
              "      filter: drop-shadow(0px 1px 2px rgba(0, 0, 0, 0.3));\n",
              "      fill: #FFFFFF;\n",
              "    }\n",
              "  </style>\n",
              "\n",
              "      <script>\n",
              "        const buttonEl =\n",
              "          document.querySelector('#df-41e7de14-0c2f-486f-a463-d305bd934d77 button.colab-df-convert');\n",
              "        buttonEl.style.display =\n",
              "          google.colab.kernel.accessAllowed ? 'block' : 'none';\n",
              "\n",
              "        async function convertToInteractive(key) {\n",
              "          const element = document.querySelector('#df-41e7de14-0c2f-486f-a463-d305bd934d77');\n",
              "          const dataTable =\n",
              "            await google.colab.kernel.invokeFunction('convertToInteractive',\n",
              "                                                     [key], {});\n",
              "          if (!dataTable) return;\n",
              "\n",
              "          const docLinkHtml = 'Like what you see? Visit the ' +\n",
              "            '<a target=\"_blank\" href=https://colab.research.google.com/notebooks/data_table.ipynb>data table notebook</a>'\n",
              "            + ' to learn more about interactive tables.';\n",
              "          element.innerHTML = '';\n",
              "          dataTable['output_type'] = 'display_data';\n",
              "          await google.colab.output.renderOutput(dataTable, element);\n",
              "          const docLink = document.createElement('div');\n",
              "          docLink.innerHTML = docLinkHtml;\n",
              "          element.appendChild(docLink);\n",
              "        }\n",
              "      </script>\n",
              "    </div>\n",
              "  </div>\n",
              "  "
            ]
          },
          "metadata": {},
          "execution_count": 19
        }
      ],
      "source": [
        "load_csv_files_from_dir(get_train_devel_test_conllup_file_dirs()[\"test\"][0])"
      ]
    },
    {
      "cell_type": "markdown",
      "source": [
        "## Import libraries for visualizing"
      ],
      "metadata": {
        "id": "9cGuCxzGXUWI"
      },
      "id": "9cGuCxzGXUWI"
    },
    {
      "cell_type": "code",
      "source": [
        "!python --version"
      ],
      "metadata": {
        "colab": {
          "base_uri": "https://localhost:8080/"
        },
        "id": "UAkErEZzpzNY",
        "outputId": "fe48632a-8097-4736-ee36-f6bc932c9329"
      },
      "id": "UAkErEZzpzNY",
      "execution_count": 20,
      "outputs": [
        {
          "output_type": "stream",
          "name": "stdout",
          "text": [
            "Python 3.7.15\n"
          ]
        }
      ]
    },
    {
      "cell_type": "markdown",
      "source": [
        "Update python code from: https://stackoverflow.com/questions/68657341/how-can-i-update-google-colabs-python-version"
      ],
      "metadata": {
        "id": "12WSqy7aqGBy"
      },
      "id": "12WSqy7aqGBy"
    },
    {
      "cell_type": "code",
      "execution_count": 30,
      "id": "81da4a60",
      "metadata": {
        "id": "81da4a60"
      },
      "outputs": [],
      "source": [
        "import matplotlib.pyplot as plt\n",
        "import numpy as np"
      ]
    },
    {
      "cell_type": "markdown",
      "source": [
        "## Loading the result of the word counts job"
      ],
      "metadata": {
        "id": "EbkcPEm_XM4E"
      },
      "id": "EbkcPEm_XM4E"
    },
    {
      "cell_type": "code",
      "execution_count": 31,
      "id": "0ef2ae59",
      "metadata": {
        "colab": {
          "base_uri": "https://localhost:8080/"
        },
        "id": "0ef2ae59",
        "outputId": "97f0c2a1-8be3-4d4d-e3f7-fce27d557688"
      },
      "outputs": [
        {
          "output_type": "stream",
          "name": "stdout",
          "text": [
            "{'devel': {'legal': {'word_count': 22647, 'unique_words': 6858}, 'news': {'word_count': 19849, 'unique_words': 7726}, 'wikipedia': {'word_count': 20066, 'unique_words': 7724}, 'fiction': {'word_count': 20870, 'unique_words': 6294}}, 'test': {'legal': {'word_count': 22040, 'unique_words': 7041}, 'news': {'word_count': 20848, 'unique_words': 7838}, 'wikipedia': {'word_count': 19378, 'unique_words': 7704}, 'fiction': {'word_count': 20814, 'unique_words': 6425}}, 'train': {'legal': {'word_count': 158152, 'unique_words': 28352}, 'news': {'word_count': 163779, 'unique_words': 36976}, 'wikipedia': {'word_count': 154517, 'unique_words': 35972}, 'fiction': {'word_count': 161410, 'unique_words': 31070}}}\n"
          ]
        }
      ],
      "source": [
        "import json\n",
        "with open(\"word_count.json\", \"r\") as f:\n",
        "    word_count = json.load(f)\n",
        "    print(word_count)"
      ]
    },
    {
      "cell_type": "markdown",
      "source": [
        "## Plot word counts"
      ],
      "metadata": {
        "id": "y8xIIw7qXem5"
      },
      "id": "y8xIIw7qXem5"
    },
    {
      "cell_type": "code",
      "execution_count": 58,
      "id": "5b8445bd",
      "metadata": {
        "colab": {
          "base_uri": "https://localhost:8080/",
          "height": 448
        },
        "id": "5b8445bd",
        "outputId": "70917423-6411-476b-91ca-d360c33b4c74"
      },
      "outputs": [
        {
          "output_type": "display_data",
          "data": {
            "text/plain": [
              "<Figure size 1476x468 with 3 Axes>"
            ],
            "image/png": "[encoded data removed]"
          },
          "metadata": {
            "needs_background": "light"
          }
        }
      ],
      "source": [
        "def plot_word_counts(word_counts):\n",
        "    datasets = [dataset for dataset in word_counts]\n",
        "    fig, ax = plt.subplots(1,len(datasets))\n",
        "    fig.suptitle(\"Count of all words and unique words across the datasets and genres\",  fontsize=20)\n",
        "    fig.set_size_inches(20.5, 6.5)\n",
        "    for i, dataset in enumerate(reversed(datasets)):\n",
        "        genres = [genre for genre in word_counts[dataset]]\n",
        "        width = 0.4\n",
        "        x = np.arange(len(genres))\n",
        "        y_values = {}\n",
        "        for genre in genres:\n",
        "            for word_count in word_counts[dataset][genre]:\n",
        "                if word_count not in y_values:\n",
        "                    y_values[word_count] = [word_counts[dataset][genre][word_count]]\n",
        "                else:\n",
        "                    y_values[word_count].append(word_counts[dataset][genre][word_count])\n",
        "        for j, word_count in enumerate(y_values):\n",
        "            label = \"# of all words\" if word_count == \"word_count\" else \"# of unique words\" \n",
        "            color = \"salmon\" if j == 0 else \"plum\"\n",
        "            rects = ax[i].bar((x + (width/2 * (-1)**j)), y_values[word_count], width, label=label, color=color)\n",
        "        \n",
        "        \n",
        "        ax[i].legend()\n",
        "        ax[i].set_xticks(x)\n",
        "        ax[i].set_xticklabels(genres)\n",
        "        ax[i].set_title(f\"{dataset[0].upper()}{dataset[1:]}\")\n",
        "        ax[i].set_ylim(0, 200_000)\n",
        "        \n",
        "\n",
        "plot_word_counts(word_count)"
      ]
    },
    {
      "cell_type": "markdown",
      "source": [
        "Here we can see that each genre has almost the same number of words, but out of these words just a fraction of them is unique. The plot also shows that wikipedia while having fewer words than other genres, has more unique ones than the others."
      ],
      "metadata": {
        "id": "RfXXoNsx-uol"
      },
      "id": "RfXXoNsx-uol"
    },
    {
      "cell_type": "markdown",
      "source": [
        "## Plot distribution of labels across datasets and genres"
      ],
      "metadata": {
        "id": "RqHIqbdfXozw"
      },
      "id": "RqHIqbdfXozw"
    },
    {
      "cell_type": "code",
      "execution_count": 42,
      "id": "362d1ac9",
      "metadata": {
        "colab": {
          "base_uri": "https://localhost:8080/",
          "height": 812
        },
        "id": "362d1ac9",
        "outputId": "a33f6ef0-9870-4e0b-866b-7f3bfe170672"
      },
      "outputs": [
        {
          "output_type": "stream",
          "name": "stdout",
          "text": [
            "{'devel': ['data/train-devel-test/devel/legal/no-morph', 'data/train-devel-test/devel/news/no-morph', 'data/train-devel-test/devel/wikipedia/no-morph', 'data/train-devel-test/devel/fiction/no-morph'], 'test': ['data/train-devel-test/test/legal/no-morph', 'data/train-devel-test/test/news/no-morph', 'data/train-devel-test/test/wikipedia/no-morph', 'data/train-devel-test/test/fiction/no-morph'], 'train': ['data/train-devel-test/train/legal/no-morph', 'data/train-devel-test/train/news/no-morph', 'data/train-devel-test/train/wikipedia/no-morph', 'data/train-devel-test/train/fiction/no-morph']}\n"
          ]
        },
        {
          "output_type": "display_data",
          "data": {
            "text/plain": [
              "<Figure size 2196x1116 with 12 Axes>"
            ],
            "image/png": "[encoded data removed]"
          },
          "metadata": {
            "needs_background": "light"
          }
        }
      ],
      "source": [
        "def plot_tag_distribution():\n",
        "    data_dirs = get_train_devel_test_conllup_file_dirs()\n",
        "    genres = [data_dirs[genre_dir] for genre_dir in data_dirs]\n",
        "    fig, ax = plt.subplots(len(data_dirs),len(genres[0]))\n",
        "    fig.suptitle(\"Distribution of labels across datasets and genres\",  fontsize=30)\n",
        "    fig.set_size_inches(30.5, 15.5)\n",
        "    print(data_dirs)\n",
        "    for i, dataset in enumerate(reversed(list(data_dirs))):\n",
        "        for j, genre_dir_path in enumerate(data_dirs[dataset]):\n",
        "            genre = genre_dir_path.split(os.sep)[-2]\n",
        "            df = load_csv_files_from_dir(genre_dir_path)\n",
        "            value_counts = df[\"CONLL:NER\"].value_counts().sort_index()\n",
        "            rects = ax[i][j].bar(value_counts.keys(), value_counts.values, color=\"salmon\", label=\"# of tags\")\n",
        "            ax[i][j].legend()\n",
        "            if j == 0:\n",
        "                ax[i][j].set_ylabel(f\"{dataset[0].upper()}{dataset[1:]}\").set_fontsize(20)\n",
        "            ax[i][j].set_title(f\"{genre[0].upper()}{genre[1:]}\").set_fontsize(15)\n",
        "            ax[i][j].set_ylim(0, max(value_counts.values) * 1.1)\n",
        "        \n",
        "plot_tag_distribution()\n"
      ]
    },
    {
      "cell_type": "markdown",
      "source": [
        "As we can see the distribution of each tag in the genres is roughly similar accross the datasets, so this division of data will be good for training."
      ],
      "metadata": {
        "id": "DKOOKKt8-Slz"
      },
      "id": "DKOOKKt8-Slz"
    },
    {
      "cell_type": "code",
      "execution_count": null,
      "id": "13d5bee0",
      "metadata": {
        "id": "13d5bee0"
      },
      "outputs": [],
      "source": []
    }
  ],
  "metadata": {
    "kernelspec": {
      "display_name": "Python 3 (ipykernel)",
      "language": "python",
      "name": "python3"
    },
    "language_info": {
      "codemirror_mode": {
        "name": "ipython",
        "version": 3
      },
      "file_extension": ".py",
      "mimetype": "text/x-python",
      "name": "python",
      "nbconvert_exporter": "python",
      "pygments_lexer": "ipython3",
      "version": "3.9.5"
    },
    "colab": {
      "provenance": []
    }
  },
  "nbformat": 4,
  "nbformat_minor": 5
}