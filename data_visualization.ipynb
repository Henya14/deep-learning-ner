{
 "cells": [
  {
   "cell_type": "code",
   "execution_count": 33,
   "id": "7cf8e48f",
   "metadata": {},
   "outputs": [],
   "source": [
    "import pandas as pd\n",
    "import os"
   ]
  },
  {
   "cell_type": "code",
   "execution_count": 34,
   "id": "41bd43b4",
   "metadata": {},
   "outputs": [],
   "source": [
    "def get_columns(file_path):\n",
    "    with open(file_path, \"r\") as rf:\n",
    "        original_file_path = rf.readline()\n",
    "        original_file_path = original_file_path.replace(\"../\", \"\")\n",
    "        print(original_file_path)\n",
    "        with open(os.path.join(\"data\", original_file_path)) as f:\n",
    "            column_line = f.readline()\n",
    "            columns = column_line.split(\"=\")[1]\n",
    "            columns = [c.strip() for c in columns.split(\" \") if c]\n",
    "            return columns\n"
   ]
  },
  {
   "cell_type": "code",
   "execution_count": 35,
   "id": "bcb94951",
   "metadata": {},
   "outputs": [
    {
     "name": "stdout",
     "output_type": "stream",
     "text": [
      "genres/fiction/no-morph/chilcote_12.conllup\n"
     ]
    },
    {
     "data": {
      "text/plain": [
       "['FORM', 'LEMMA', 'UPOS', 'XPOS', 'FEATS', 'CONLL:NER']"
      ]
     },
     "execution_count": 35,
     "metadata": {},
     "output_type": "execute_result"
    }
   ],
   "source": [
    "get_columns(\"./data/train-devel-test/train/fiction/no-morph/chilcote_12.conllup\")"
   ]
  },
  {
   "cell_type": "code",
   "execution_count": 36,
   "id": "63f6e9f9",
   "metadata": {},
   "outputs": [],
   "source": [
    "def load_conllup_file(file_path):\n",
    "    conllu_columns = get_columns(\"./data/train-devel-test/train/fiction/no-morph/chilcote_12.conllup\")\n",
    "    df = pd.DataFrame(columns=[\"sentence_index\", \"position_number_in_sentence\", *conllu_columns])\n",
    "    with open(file_path, encoding=\"UTF-8\") as f:\n",
    "        sentence_index = 0\n",
    "        position_number_in_sentence = 0\n",
    "        line = f.readline() # skip the first comment line\n",
    "        line = f.readline()\n",
    "        while line:\n",
    "            if line == \"\\n\":\n",
    "                sentence_index +=  1\n",
    "                position_number_in_sentence = 0\n",
    "            else:\n",
    "                splitted_line = line.split()\n",
    "                conllu_row_part = {}\n",
    "                for i in range(len(conllu_columns)):\n",
    "                    conllu_row_part[f\"{conllu_columns[i]}\"] = splitted_line[i]\n",
    "                \n",
    "                row = {\n",
    "                    \"sentence_index\": sentence_index,\n",
    "                    \"position_number_in_sentence\": position_number_in_sentence,\n",
    "                    **conllu_row_part\n",
    "                }\n",
    "                row = pd.Series(row)\n",
    "                df.loc[len(df)] = row\n",
    "                position_number_in_sentence += 1\n",
    "            line = f.readline()\n",
    "        return df"
   ]
  },
  {
   "cell_type": "code",
   "execution_count": 37,
   "id": "fc59e10f",
   "metadata": {},
   "outputs": [
    {
     "name": "stdout",
     "output_type": "stream",
     "text": [
      "genres/fiction/no-morph/chilcote_12.conllup\n"
     ]
    }
   ],
   "source": [
    "df = load_conllup_file(\"./data/train-devel-test/train/fiction/no-morph/chilcote_12.conllup\")"
   ]
  },
  {
   "cell_type": "code",
   "execution_count": 4,
   "id": "4c501b9b",
   "metadata": {},
   "outputs": [
    {
     "ename": "NameError",
     "evalue": "name 'df' is not defined",
     "output_type": "error",
     "traceback": [
      "\u001b[1;31m---------------------------------------------------------------------------\u001b[0m",
      "\u001b[1;31mNameError\u001b[0m                                 Traceback (most recent call last)",
      "Input \u001b[1;32mIn [4]\u001b[0m, in \u001b[0;36m<cell line: 1>\u001b[1;34m()\u001b[0m\n\u001b[1;32m----> 1\u001b[0m \u001b[43mdf\u001b[49m\u001b[38;5;241m.\u001b[39mhead(\u001b[38;5;241m5\u001b[39m)\n",
      "\u001b[1;31mNameError\u001b[0m: name 'df' is not defined"
     ]
    }
   ],
   "source": [
    "df.head(5)"
   ]
  },
  {
   "cell_type": "code",
   "execution_count": 38,
   "id": "2c702f94",
   "metadata": {},
   "outputs": [
    {
     "data": {
      "text/plain": [
       "Series([], Name: CONLL:NER, dtype: int64)"
      ]
     },
     "execution_count": 38,
     "metadata": {},
     "output_type": "execute_result"
    }
   ],
   "source": [
    "df[\"CONLL:NER\"].value_counts()"
   ]
  },
  {
   "cell_type": "code",
   "execution_count": 39,
   "id": "7f8af7f0",
   "metadata": {},
   "outputs": [],
   "source": [
    "import os"
   ]
  },
  {
   "cell_type": "code",
   "execution_count": 40,
   "id": "4ecaea0c",
   "metadata": {},
   "outputs": [],
   "source": [
    "train_test_devel_data_path = os.path.join(\"data\", \"train-devel-test\")\n",
    "train_test_devel_data_dirs = [os.path.join(train_test_devel_data_path, data_dir) for data_dir in os.listdir(train_test_devel_data_path) if os.path.isdir(os.path.join(train_test_devel_data_path, data_dir))]"
   ]
  },
  {
   "cell_type": "code",
   "execution_count": 46,
   "id": "a1f33f1d",
   "metadata": {},
   "outputs": [],
   "source": [
    "def get_train_devel_test_conllup_file_dirs():\n",
    "    train_devel_test_conllup_file_dirs = {}\n",
    "    for d in train_test_devel_data_dirs:\n",
    "        connlup_file_dirs = [os.path.join(d, genre_dir, \"no-morph\") for genre_dir in os.listdir(d) if os.path.isdir(os.path.join(d, genre_dir)) and \"no-morph\" in os.listdir(os.path.join(d, genre_dir))]\n",
    "        train_devel_test_conllup_file_dirs[os.path.basename(d)] = connlup_file_dirs\n",
    "    return train_devel_test_conllup_file_dirs"
   ]
  },
  {
   "cell_type": "code",
   "execution_count": 42,
   "id": "045b25e5",
   "metadata": {},
   "outputs": [],
   "source": [
    "import re\n",
    "connlup_file_pattern = re.compile(\".*.conllup\") \n",
    "def get_connlup_files_in_dir(path_to_dir):\n",
    "    return [f for f in os.listdir(path_to_dir) if connlup_file_pattern.match(f)]"
   ]
  },
  {
   "cell_type": "code",
   "execution_count": 47,
   "id": "8762b1ee",
   "metadata": {},
   "outputs": [
    {
     "data": {
      "text/plain": [
       "{'devel': ['data\\\\train-devel-test\\\\devel\\\\fiction\\\\no-morph',\n",
       "  'data\\\\train-devel-test\\\\devel\\\\legal\\\\no-morph',\n",
       "  'data\\\\train-devel-test\\\\devel\\\\news\\\\no-morph',\n",
       "  'data\\\\train-devel-test\\\\devel\\\\wikipedia\\\\no-morph'],\n",
       " 'test': ['data\\\\train-devel-test\\\\test\\\\fiction\\\\no-morph',\n",
       "  'data\\\\train-devel-test\\\\test\\\\legal\\\\no-morph',\n",
       "  'data\\\\train-devel-test\\\\test\\\\news\\\\no-morph',\n",
       "  'data\\\\train-devel-test\\\\test\\\\wikipedia\\\\no-morph'],\n",
       " 'train': ['data\\\\train-devel-test\\\\train\\\\fiction\\\\no-morph',\n",
       "  'data\\\\train-devel-test\\\\train\\\\legal\\\\no-morph',\n",
       "  'data\\\\train-devel-test\\\\train\\\\news\\\\no-morph',\n",
       "  'data\\\\train-devel-test\\\\train\\\\wikipedia\\\\no-morph']}"
      ]
     },
     "execution_count": 47,
     "metadata": {},
     "output_type": "execute_result"
    }
   ],
   "source": [
    "get_train_devel_test_conllup_file_dirs()"
   ]
  },
  {
   "cell_type": "code",
   "execution_count": 44,
   "id": "d9ed2457",
   "metadata": {},
   "outputs": [
    {
     "data": {
      "text/plain": [
       "['chilcote_16.conllup',\n",
       " 'opensubtitles_1.conllup',\n",
       " 'opensubtitles_10.conllup',\n",
       " 'opensubtitles_11.conllup',\n",
       " 'opensubtitles_13.conllup',\n",
       " 'opensubtitles_14.conllup',\n",
       " 'opensubtitles_15.conllup',\n",
       " 'opensubtitles_16.conllup',\n",
       " 'opensubtitles_17.conllup',\n",
       " 'opensubtitles_18.conllup',\n",
       " 'opensubtitles_19.conllup',\n",
       " 'opensubtitles_2.conllup',\n",
       " 'tanarur_1.conllup',\n",
       " 'tokmag_3.conllup']"
      ]
     },
     "execution_count": 44,
     "metadata": {},
     "output_type": "execute_result"
    }
   ],
   "source": [
    "get_connlup_files_in_dir(train_devel_test_conllup_file_dirs[\"devel\"][0])"
   ]
  },
  {
   "cell_type": "code",
   "execution_count": 45,
   "id": "253b1fe6",
   "metadata": {},
   "outputs": [],
   "source": [
    "def load_all_conllup_files_in_dir(path_to_dir, train_test_devel, genre):\n",
    "    conllup_file_paths = [os.path.join(path_to_dir, cf) for cf in get_connlup_files_in_dir(path_to_dir)]\n",
    "    combined_df = pd.DataFrame()\n",
    "    for conllup_file in conllup_file_paths:\n",
    "        print(conllup_file)\n",
    "        df = load_conllup_file(conllup_file)\n",
    "        df[\"train_test_devel\"] = train_test_devel\n",
    "        df[\"genre\"] = genre\n",
    "        df[\"file_path\"] = conllup_file\n",
    "        combined_df = pd.concat([combined_df, df])\n",
    "    return combined_df\n"
   ]
  },
  {
   "cell_type": "code",
   "execution_count": 63,
   "id": "1923a719",
   "metadata": {},
   "outputs": [
    {
     "name": "stdout",
     "output_type": "stream",
     "text": [
      "data\\train-devel-test\\devel\\fiction\\no-morph\\chilcote_16.conllup\n",
      "data\\train-devel-test\\devel\\fiction\\no-morph\\opensubtitles_1.conllup\n",
      "data\\train-devel-test\\devel\\fiction\\no-morph\\opensubtitles_10.conllup\n",
      "data\\train-devel-test\\devel\\fiction\\no-morph\\opensubtitles_11.conllup\n",
      "data\\train-devel-test\\devel\\fiction\\no-morph\\opensubtitles_13.conllup\n",
      "data\\train-devel-test\\devel\\fiction\\no-morph\\opensubtitles_14.conllup\n",
      "data\\train-devel-test\\devel\\fiction\\no-morph\\opensubtitles_15.conllup\n",
      "data\\train-devel-test\\devel\\fiction\\no-morph\\opensubtitles_16.conllup\n",
      "data\\train-devel-test\\devel\\fiction\\no-morph\\opensubtitles_17.conllup\n",
      "data\\train-devel-test\\devel\\fiction\\no-morph\\opensubtitles_18.conllup\n",
      "data\\train-devel-test\\devel\\fiction\\no-morph\\opensubtitles_19.conllup\n",
      "data\\train-devel-test\\devel\\fiction\\no-morph\\opensubtitles_2.conllup\n",
      "data\\train-devel-test\\devel\\fiction\\no-morph\\tanarur_1.conllup\n",
      "data\\train-devel-test\\devel\\fiction\\no-morph\\tokmag_3.conllup\n"
     ]
    }
   ],
   "source": [
    "data = load_all_conllup_files_in_dir(train_devel_test_conllup_file_dirs[\"devel\"][0], \"devel\",train_devel_test_conllup_file_dirs[\"devel\"][0].split(os.path.sep)[-2])"
   ]
  },
  {
   "cell_type": "code",
   "execution_count": 69,
   "id": "eb016ad0",
   "metadata": {},
   "outputs": [
    {
     "name": "stdout",
     "output_type": "stream",
     "text": [
      "data\\train-devel-test\\devel\\fiction\\no-morph\n",
      "data\\train-devel-test\\devel\\fiction\\no-morph\\chilcote_16.conllup\n",
      "data\\train-devel-test\\devel\\fiction\\no-morph\\opensubtitles_1.conllup\n",
      "data\\train-devel-test\\devel\\fiction\\no-morph\\opensubtitles_10.conllup\n",
      "data\\train-devel-test\\devel\\fiction\\no-morph\\opensubtitles_11.conllup\n",
      "data\\train-devel-test\\devel\\fiction\\no-morph\\opensubtitles_13.conllup\n",
      "data\\train-devel-test\\devel\\fiction\\no-morph\\opensubtitles_14.conllup\n",
      "data\\train-devel-test\\devel\\fiction\\no-morph\\opensubtitles_15.conllup\n",
      "data\\train-devel-test\\devel\\fiction\\no-morph\\opensubtitles_16.conllup\n",
      "data\\train-devel-test\\devel\\fiction\\no-morph\\opensubtitles_17.conllup\n",
      "data\\train-devel-test\\devel\\fiction\\no-morph\\opensubtitles_18.conllup\n",
      "data\\train-devel-test\\devel\\fiction\\no-morph\\opensubtitles_19.conllup\n",
      "data\\train-devel-test\\devel\\fiction\\no-morph\\opensubtitles_2.conllup\n",
      "data\\train-devel-test\\devel\\fiction\\no-morph\\tanarur_1.conllup\n",
      "data\\train-devel-test\\devel\\fiction\\no-morph\\tokmag_3.conllup\n",
      "data\\train-devel-test\\devel\\legal\\no-morph\n",
      "data\\train-devel-test\\devel\\legal\\no-morph\\const_3.conllup\n",
      "data\\train-devel-test\\devel\\legal\\no-morph\\dgt_1.conllup\n",
      "data\\train-devel-test\\devel\\legal\\no-morph\\eesc_22.conllup\n",
      "data\\train-devel-test\\devel\\legal\\no-morph\\jrc_11.conllup\n",
      "data\\train-devel-test\\devel\\news\\no-morph\n",
      "data\\train-devel-test\\devel\\news\\no-morph\\globalvoices_1.conllup\n",
      "data\\train-devel-test\\devel\\news\\no-morph\\globalvoices_11.conllup\n",
      "data\\train-devel-test\\devel\\news\\no-morph\\newscrawl_1.conllup\n",
      "data\\train-devel-test\\devel\\news\\no-morph\\rapid_15.conllup\n",
      "data\\train-devel-test\\devel\\news\\no-morph\\rapid_2.conllup\n",
      "data\\train-devel-test\\devel\\wikipedia\\no-morph\n",
      "data\\train-devel-test\\devel\\wikipedia\\no-morph\\huwiki_200_5.conllup\n",
      "data\\train-devel-test\\devel\\wikipedia\\no-morph\\huwiki_200_69.conllup\n",
      "data\\train-devel-test\\devel\\wikipedia\\no-morph\\huwiki_200_7.conllup\n",
      "data\\train-devel-test\\devel\\wikipedia\\no-morph\\huwiki_200_70.conllup\n",
      "data\\train-devel-test\\devel\\wikipedia\\no-morph\\huwiki_200_71.conllup\n",
      "data\\train-devel-test\\devel\\wikipedia\\no-morph\\huwiki_200_72.conllup\n",
      "data\\train-devel-test\\devel\\wikipedia\\no-morph\\huwiki_200_8.conllup\n",
      "data\\train-devel-test\\devel\\wikipedia\\no-morph\\huwiki_200_9.conllup\n",
      "data\\train-devel-test\\test\\fiction\\no-morph\n",
      "data\\train-devel-test\\test\\fiction\\no-morph\\chilcote_1.conllup\n",
      "data\\train-devel-test\\test\\fiction\\no-morph\\opensubtitles_20.conllup\n",
      "data\\train-devel-test\\test\\fiction\\no-morph\\opensubtitles_21.conllup\n",
      "data\\train-devel-test\\test\\fiction\\no-morph\\opensubtitles_22.conllup\n",
      "data\\train-devel-test\\test\\fiction\\no-morph\\opensubtitles_25.conllup\n",
      "data\\train-devel-test\\test\\fiction\\no-morph\\opensubtitles_28.conllup\n",
      "data\\train-devel-test\\test\\fiction\\no-morph\\opensubtitles_29.conllup\n",
      "data\\train-devel-test\\test\\fiction\\no-morph\\opensubtitles_3.conllup\n",
      "data\\train-devel-test\\test\\fiction\\no-morph\\opensubtitles_30.conllup\n",
      "data\\train-devel-test\\test\\fiction\\no-morph\\opensubtitles_31.conllup\n",
      "data\\train-devel-test\\test\\fiction\\no-morph\\opensubtitles_50.conllup\n",
      "data\\train-devel-test\\test\\fiction\\no-morph\\tanarur_7.conllup\n",
      "data\\train-devel-test\\test\\fiction\\no-morph\\tokmag_2.conllup\n",
      "data\\train-devel-test\\test\\legal\\no-morph\n",
      "data\\train-devel-test\\test\\legal\\no-morph\\const_1.conllup\n",
      "data\\train-devel-test\\test\\legal\\no-morph\\dgt_9.conllup\n",
      "data\\train-devel-test\\test\\legal\\no-morph\\eesc_4.conllup\n",
      "data\\train-devel-test\\test\\legal\\no-morph\\jrc_6.conllup\n",
      "data\\train-devel-test\\test\\news\\no-morph\n",
      "data\\train-devel-test\\test\\news\\no-morph\\globalvoices_10.conllup\n",
      "data\\train-devel-test\\test\\news\\no-morph\\globalvoices_3.conllup\n",
      "data\\train-devel-test\\test\\news\\no-morph\\newscrawl_6.conllup\n",
      "data\\train-devel-test\\test\\news\\no-morph\\rapid_7.conllup\n",
      "data\\train-devel-test\\test\\news\\no-morph\\rapid_9.conllup\n",
      "data\\train-devel-test\\test\\wikipedia\\no-morph\n",
      "data\\train-devel-test\\test\\wikipedia\\no-morph\\huwiki_200_62.conllup\n",
      "data\\train-devel-test\\test\\wikipedia\\no-morph\\huwiki_200_63.conllup\n",
      "data\\train-devel-test\\test\\wikipedia\\no-morph\\huwiki_200_64.conllup\n",
      "data\\train-devel-test\\test\\wikipedia\\no-morph\\huwiki_200_65.conllup\n",
      "data\\train-devel-test\\test\\wikipedia\\no-morph\\huwiki_200_66.conllup\n",
      "data\\train-devel-test\\test\\wikipedia\\no-morph\\huwiki_200_67.conllup\n",
      "data\\train-devel-test\\test\\wikipedia\\no-morph\\huwiki_200_68.conllup\n",
      "data\\train-devel-test\\train\\fiction\\no-morph\n",
      "data\\train-devel-test\\train\\fiction\\no-morph\\chilcote_12.conllup\n",
      "data\\train-devel-test\\train\\fiction\\no-morph\\chilcote_14.conllup\n",
      "data\\train-devel-test\\train\\fiction\\no-morph\\chilcote_17.conllup\n",
      "data\\train-devel-test\\train\\fiction\\no-morph\\chilcote_18.conllup\n",
      "data\\train-devel-test\\train\\fiction\\no-morph\\chilcote_23.conllup\n",
      "data\\train-devel-test\\train\\fiction\\no-morph\\chilcote_27.conllup\n",
      "data\\train-devel-test\\train\\fiction\\no-morph\\chilcote_29.conllup\n",
      "data\\train-devel-test\\train\\fiction\\no-morph\\kepzelet_1.conllup\n",
      "data\\train-devel-test\\train\\fiction\\no-morph\\opensubtitles_23.conllup\n",
      "data\\train-devel-test\\train\\fiction\\no-morph\\opensubtitles_24.conllup\n",
      "data\\train-devel-test\\train\\fiction\\no-morph\\opensubtitles_26.conllup\n",
      "data\\train-devel-test\\train\\fiction\\no-morph\\opensubtitles_27.conllup\n",
      "data\\train-devel-test\\train\\fiction\\no-morph\\opensubtitles_32.conllup\n",
      "data\\train-devel-test\\train\\fiction\\no-morph\\opensubtitles_33.conllup\n",
      "data\\train-devel-test\\train\\fiction\\no-morph\\opensubtitles_34.conllup\n",
      "data\\train-devel-test\\train\\fiction\\no-morph\\opensubtitles_35.conllup\n",
      "data\\train-devel-test\\train\\fiction\\no-morph\\opensubtitles_36.conllup\n",
      "data\\train-devel-test\\train\\fiction\\no-morph\\opensubtitles_37.conllup\n",
      "data\\train-devel-test\\train\\fiction\\no-morph\\opensubtitles_38.conllup\n",
      "data\\train-devel-test\\train\\fiction\\no-morph\\opensubtitles_39.conllup\n",
      "data\\train-devel-test\\train\\fiction\\no-morph\\opensubtitles_4.conllup\n",
      "data\\train-devel-test\\train\\fiction\\no-morph\\opensubtitles_40.conllup\n",
      "data\\train-devel-test\\train\\fiction\\no-morph\\opensubtitles_41.conllup\n",
      "data\\train-devel-test\\train\\fiction\\no-morph\\opensubtitles_42.conllup\n",
      "data\\train-devel-test\\train\\fiction\\no-morph\\opensubtitles_43.conllup\n",
      "data\\train-devel-test\\train\\fiction\\no-morph\\opensubtitles_44.conllup\n",
      "data\\train-devel-test\\train\\fiction\\no-morph\\opensubtitles_45.conllup\n",
      "data\\train-devel-test\\train\\fiction\\no-morph\\opensubtitles_46.conllup\n",
      "data\\train-devel-test\\train\\fiction\\no-morph\\opensubtitles_47.conllup\n",
      "data\\train-devel-test\\train\\fiction\\no-morph\\opensubtitles_48.conllup\n",
      "data\\train-devel-test\\train\\fiction\\no-morph\\opensubtitles_49.conllup\n",
      "data\\train-devel-test\\train\\fiction\\no-morph\\opensubtitles_5.conllup\n",
      "data\\train-devel-test\\train\\fiction\\no-morph\\opensubtitles_51.conllup\n",
      "data\\train-devel-test\\train\\fiction\\no-morph\\opensubtitles_52.conllup\n",
      "data\\train-devel-test\\train\\fiction\\no-morph\\opensubtitles_53.conllup\n",
      "data\\train-devel-test\\train\\fiction\\no-morph\\opensubtitles_54.conllup\n",
      "data\\train-devel-test\\train\\fiction\\no-morph\\opensubtitles_55.conllup\n",
      "data\\train-devel-test\\train\\fiction\\no-morph\\opensubtitles_56.conllup\n",
      "data\\train-devel-test\\train\\fiction\\no-morph\\opensubtitles_57.conllup\n",
      "data\\train-devel-test\\train\\fiction\\no-morph\\opensubtitles_58.conllup\n",
      "data\\train-devel-test\\train\\fiction\\no-morph\\opensubtitles_59.conllup\n",
      "data\\train-devel-test\\train\\fiction\\no-morph\\opensubtitles_6.conllup\n",
      "data\\train-devel-test\\train\\fiction\\no-morph\\opensubtitles_60.conllup\n",
      "data\\train-devel-test\\train\\fiction\\no-morph\\opensubtitles_61.conllup\n",
      "data\\train-devel-test\\train\\fiction\\no-morph\\opensubtitles_62.conllup\n",
      "data\\train-devel-test\\train\\fiction\\no-morph\\opensubtitles_63.conllup\n",
      "data\\train-devel-test\\train\\fiction\\no-morph\\opensubtitles_64.conllup\n",
      "data\\train-devel-test\\train\\fiction\\no-morph\\opensubtitles_65.conllup\n",
      "data\\train-devel-test\\train\\fiction\\no-morph\\opensubtitles_66.conllup\n",
      "data\\train-devel-test\\train\\fiction\\no-morph\\opensubtitles_67.conllup\n",
      "data\\train-devel-test\\train\\fiction\\no-morph\\opensubtitles_68.conllup\n",
      "data\\train-devel-test\\train\\fiction\\no-morph\\opensubtitles_69.conllup\n",
      "data\\train-devel-test\\train\\fiction\\no-morph\\opensubtitles_7.conllup\n",
      "data\\train-devel-test\\train\\fiction\\no-morph\\opensubtitles_70.conllup\n",
      "data\\train-devel-test\\train\\fiction\\no-morph\\opensubtitles_71.conllup\n",
      "data\\train-devel-test\\train\\fiction\\no-morph\\opensubtitles_72.conllup\n"
     ]
    },
    {
     "name": "stdout",
     "output_type": "stream",
     "text": [
      "data\\train-devel-test\\train\\fiction\\no-morph\\opensubtitles_73.conllup\n",
      "data\\train-devel-test\\train\\fiction\\no-morph\\opensubtitles_74.conllup\n",
      "data\\train-devel-test\\train\\fiction\\no-morph\\opensubtitles_75.conllup\n",
      "data\\train-devel-test\\train\\fiction\\no-morph\\opensubtitles_76.conllup\n",
      "data\\train-devel-test\\train\\fiction\\no-morph\\opensubtitles_77.conllup\n",
      "data\\train-devel-test\\train\\fiction\\no-morph\\opensubtitles_78.conllup\n",
      "data\\train-devel-test\\train\\fiction\\no-morph\\opensubtitles_79.conllup\n",
      "data\\train-devel-test\\train\\fiction\\no-morph\\opensubtitles_8.conllup\n",
      "data\\train-devel-test\\train\\fiction\\no-morph\\opensubtitles_80.conllup\n",
      "data\\train-devel-test\\train\\fiction\\no-morph\\opensubtitles_81.conllup\n",
      "data\\train-devel-test\\train\\fiction\\no-morph\\opensubtitles_82.conllup\n",
      "data\\train-devel-test\\train\\fiction\\no-morph\\opensubtitles_83.conllup\n",
      "data\\train-devel-test\\train\\fiction\\no-morph\\opensubtitles_84.conllup\n",
      "data\\train-devel-test\\train\\fiction\\no-morph\\opensubtitles_85.conllup\n",
      "data\\train-devel-test\\train\\fiction\\no-morph\\opensubtitles_86.conllup\n",
      "data\\train-devel-test\\train\\fiction\\no-morph\\opensubtitles_87.conllup\n",
      "data\\train-devel-test\\train\\fiction\\no-morph\\opensubtitles_88.conllup\n",
      "data\\train-devel-test\\train\\fiction\\no-morph\\opensubtitles_89.conllup\n",
      "data\\train-devel-test\\train\\fiction\\no-morph\\opensubtitles_9.conllup\n",
      "data\\train-devel-test\\train\\fiction\\no-morph\\opensubtitles_90.conllup\n",
      "data\\train-devel-test\\train\\fiction\\no-morph\\opensubtitles_91.conllup\n",
      "data\\train-devel-test\\train\\fiction\\no-morph\\opensubtitles_92.conllup\n",
      "data\\train-devel-test\\train\\fiction\\no-morph\\opensubtitles_93.conllup\n",
      "data\\train-devel-test\\train\\fiction\\no-morph\\opensubtitles_94.conllup\n",
      "data\\train-devel-test\\train\\fiction\\no-morph\\opensubtitles_95.conllup\n",
      "data\\train-devel-test\\train\\fiction\\no-morph\\opensubtitles_96.conllup\n",
      "data\\train-devel-test\\train\\fiction\\no-morph\\opensubtitles_97.conllup\n",
      "data\\train-devel-test\\train\\fiction\\no-morph\\opensubtitles_98.conllup\n",
      "data\\train-devel-test\\train\\fiction\\no-morph\\opensubtitles_99.conllup\n",
      "data\\train-devel-test\\train\\fiction\\no-morph\\tanarur_2.conllup\n",
      "data\\train-devel-test\\train\\fiction\\no-morph\\tanarur_3.conllup\n",
      "data\\train-devel-test\\train\\fiction\\no-morph\\tanarur_4.conllup\n",
      "data\\train-devel-test\\train\\fiction\\no-morph\\tanarur_5.conllup\n",
      "data\\train-devel-test\\train\\fiction\\no-morph\\tanarur_6.conllup\n",
      "data\\train-devel-test\\train\\fiction\\no-morph\\tokmag_1.conllup\n",
      "data\\train-devel-test\\train\\fiction\\no-morph\\tokmag_13.conllup\n",
      "data\\train-devel-test\\train\\fiction\\no-morph\\tokmag_4.conllup\n",
      "data\\train-devel-test\\train\\fiction\\no-morph\\tokmag_5.conllup\n",
      "data\\train-devel-test\\train\\fiction\\no-morph\\tokmag_6.conllup\n",
      "data\\train-devel-test\\train\\legal\\no-morph\n",
      "data\\train-devel-test\\train\\legal\\no-morph\\const_2.conllup\n",
      "data\\train-devel-test\\train\\legal\\no-morph\\dgt_10.conllup\n",
      "data\\train-devel-test\\train\\legal\\no-morph\\dgt_11.conllup\n",
      "data\\train-devel-test\\train\\legal\\no-morph\\dgt_12.conllup\n",
      "data\\train-devel-test\\train\\legal\\no-morph\\dgt_2.conllup\n",
      "data\\train-devel-test\\train\\legal\\no-morph\\dgt_3.conllup\n",
      "data\\train-devel-test\\train\\legal\\no-morph\\dgt_4.conllup\n",
      "data\\train-devel-test\\train\\legal\\no-morph\\dgt_5.conllup\n",
      "data\\train-devel-test\\train\\legal\\no-morph\\dgt_6.conllup\n",
      "data\\train-devel-test\\train\\legal\\no-morph\\dgt_7.conllup\n",
      "data\\train-devel-test\\train\\legal\\no-morph\\dgt_8.conllup\n",
      "data\\train-devel-test\\train\\legal\\no-morph\\eesc_1.conllup\n",
      "data\\train-devel-test\\train\\legal\\no-morph\\eesc_11.conllup\n",
      "data\\train-devel-test\\train\\legal\\no-morph\\eesc_17.conllup\n",
      "data\\train-devel-test\\train\\legal\\no-morph\\eesc_18.conllup\n",
      "data\\train-devel-test\\train\\legal\\no-morph\\eesc_19.conllup\n",
      "data\\train-devel-test\\train\\legal\\no-morph\\eesc_2.conllup\n",
      "data\\train-devel-test\\train\\legal\\no-morph\\eesc_25.conllup\n",
      "data\\train-devel-test\\train\\legal\\no-morph\\eesc_28.conllup\n",
      "data\\train-devel-test\\train\\legal\\no-morph\\eesc_3.conllup\n",
      "data\\train-devel-test\\train\\legal\\no-morph\\eesc_30.conllup\n",
      "data\\train-devel-test\\train\\legal\\no-morph\\eesc_31.conllup\n",
      "data\\train-devel-test\\train\\legal\\no-morph\\jrc_1.conllup\n",
      "data\\train-devel-test\\train\\legal\\no-morph\\jrc_10.conllup\n",
      "data\\train-devel-test\\train\\legal\\no-morph\\jrc_2.conllup\n",
      "data\\train-devel-test\\train\\legal\\no-morph\\jrc_3.conllup\n",
      "data\\train-devel-test\\train\\legal\\no-morph\\jrc_4.conllup\n",
      "data\\train-devel-test\\train\\legal\\no-morph\\jrc_5.conllup\n",
      "data\\train-devel-test\\train\\legal\\no-morph\\jrc_7.conllup\n",
      "data\\train-devel-test\\train\\legal\\no-morph\\jrc_8.conllup\n",
      "data\\train-devel-test\\train\\legal\\no-morph\\jrc_9.conllup\n",
      "data\\train-devel-test\\train\\news\\no-morph\n",
      "data\\train-devel-test\\train\\news\\no-morph\\globalvoices_12.conllup\n",
      "data\\train-devel-test\\train\\news\\no-morph\\globalvoices_13.conllup\n",
      "data\\train-devel-test\\train\\news\\no-morph\\globalvoices_14.conllup\n",
      "data\\train-devel-test\\train\\news\\no-morph\\globalvoices_15.conllup\n",
      "data\\train-devel-test\\train\\news\\no-morph\\globalvoices_16.conllup\n",
      "data\\train-devel-test\\train\\news\\no-morph\\globalvoices_17.conllup\n",
      "data\\train-devel-test\\train\\news\\no-morph\\globalvoices_18.conllup\n",
      "data\\train-devel-test\\train\\news\\no-morph\\globalvoices_19.conllup\n",
      "data\\train-devel-test\\train\\news\\no-morph\\globalvoices_2.conllup\n",
      "data\\train-devel-test\\train\\news\\no-morph\\globalvoices_20.conllup\n",
      "data\\train-devel-test\\train\\news\\no-morph\\globalvoices_4.conllup\n",
      "data\\train-devel-test\\train\\news\\no-morph\\globalvoices_5.conllup\n",
      "data\\train-devel-test\\train\\news\\no-morph\\globalvoices_6.conllup\n",
      "data\\train-devel-test\\train\\news\\no-morph\\globalvoices_7.conllup\n",
      "data\\train-devel-test\\train\\news\\no-morph\\globalvoices_8.conllup\n",
      "data\\train-devel-test\\train\\news\\no-morph\\globalvoices_9.conllup\n",
      "data\\train-devel-test\\train\\news\\no-morph\\newscrawl_10.conllup\n",
      "data\\train-devel-test\\train\\news\\no-morph\\newscrawl_11.conllup\n",
      "data\\train-devel-test\\train\\news\\no-morph\\newscrawl_12.conllup\n",
      "data\\train-devel-test\\train\\news\\no-morph\\newscrawl_2.conllup\n",
      "data\\train-devel-test\\train\\news\\no-morph\\newscrawl_3.conllup\n",
      "data\\train-devel-test\\train\\news\\no-morph\\newscrawl_4.conllup\n",
      "data\\train-devel-test\\train\\news\\no-morph\\newscrawl_5.conllup\n",
      "data\\train-devel-test\\train\\news\\no-morph\\newscrawl_7.conllup\n",
      "data\\train-devel-test\\train\\news\\no-morph\\newscrawl_8.conllup\n",
      "data\\train-devel-test\\train\\news\\no-morph\\newscrawl_9.conllup\n",
      "data\\train-devel-test\\train\\news\\no-morph\\rapid_1.conllup\n",
      "data\\train-devel-test\\train\\news\\no-morph\\rapid_10.conllup\n",
      "data\\train-devel-test\\train\\news\\no-morph\\rapid_11.conllup\n",
      "data\\train-devel-test\\train\\news\\no-morph\\rapid_12.conllup\n",
      "data\\train-devel-test\\train\\news\\no-morph\\rapid_13.conllup\n",
      "data\\train-devel-test\\train\\news\\no-morph\\rapid_14.conllup\n",
      "data\\train-devel-test\\train\\news\\no-morph\\rapid_3.conllup\n",
      "data\\train-devel-test\\train\\news\\no-morph\\rapid_4.conllup\n",
      "data\\train-devel-test\\train\\news\\no-morph\\rapid_5.conllup\n",
      "data\\train-devel-test\\train\\news\\no-morph\\rapid_6.conllup\n",
      "data\\train-devel-test\\train\\news\\no-morph\\rapid_8.conllup\n",
      "data\\train-devel-test\\train\\wikipedia\\no-morph\n",
      "data\\train-devel-test\\train\\wikipedia\\no-morph\\huwiki_200_1.conllup\n",
      "data\\train-devel-test\\train\\wikipedia\\no-morph\\huwiki_200_10.conllup\n",
      "data\\train-devel-test\\train\\wikipedia\\no-morph\\huwiki_200_11.conllup\n",
      "data\\train-devel-test\\train\\wikipedia\\no-morph\\huwiki_200_12.conllup\n",
      "data\\train-devel-test\\train\\wikipedia\\no-morph\\huwiki_200_13.conllup\n",
      "data\\train-devel-test\\train\\wikipedia\\no-morph\\huwiki_200_14.conllup\n",
      "data\\train-devel-test\\train\\wikipedia\\no-morph\\huwiki_200_15.conllup\n",
      "data\\train-devel-test\\train\\wikipedia\\no-morph\\huwiki_200_16.conllup\n",
      "data\\train-devel-test\\train\\wikipedia\\no-morph\\huwiki_200_17.conllup\n",
      "data\\train-devel-test\\train\\wikipedia\\no-morph\\huwiki_200_18.conllup\n",
      "data\\train-devel-test\\train\\wikipedia\\no-morph\\huwiki_200_19.conllup\n",
      "data\\train-devel-test\\train\\wikipedia\\no-morph\\huwiki_200_2.conllup\n",
      "data\\train-devel-test\\train\\wikipedia\\no-morph\\huwiki_200_20.conllup\n",
      "data\\train-devel-test\\train\\wikipedia\\no-morph\\huwiki_200_21.conllup\n",
      "data\\train-devel-test\\train\\wikipedia\\no-morph\\huwiki_200_22.conllup\n",
      "data\\train-devel-test\\train\\wikipedia\\no-morph\\huwiki_200_23.conllup\n",
      "data\\train-devel-test\\train\\wikipedia\\no-morph\\huwiki_200_24.conllup\n",
      "data\\train-devel-test\\train\\wikipedia\\no-morph\\huwiki_200_25.conllup\n",
      "data\\train-devel-test\\train\\wikipedia\\no-morph\\huwiki_200_26.conllup\n"
     ]
    },
    {
     "name": "stdout",
     "output_type": "stream",
     "text": [
      "data\\train-devel-test\\train\\wikipedia\\no-morph\\huwiki_200_27.conllup\n",
      "data\\train-devel-test\\train\\wikipedia\\no-morph\\huwiki_200_28.conllup\n",
      "data\\train-devel-test\\train\\wikipedia\\no-morph\\huwiki_200_29.conllup\n",
      "data\\train-devel-test\\train\\wikipedia\\no-morph\\huwiki_200_3.conllup\n",
      "data\\train-devel-test\\train\\wikipedia\\no-morph\\huwiki_200_30.conllup\n",
      "data\\train-devel-test\\train\\wikipedia\\no-morph\\huwiki_200_31.conllup\n",
      "data\\train-devel-test\\train\\wikipedia\\no-morph\\huwiki_200_32.conllup\n",
      "data\\train-devel-test\\train\\wikipedia\\no-morph\\huwiki_200_33.conllup\n",
      "data\\train-devel-test\\train\\wikipedia\\no-morph\\huwiki_200_34.conllup\n",
      "data\\train-devel-test\\train\\wikipedia\\no-morph\\huwiki_200_35.conllup\n",
      "data\\train-devel-test\\train\\wikipedia\\no-morph\\huwiki_200_36.conllup\n",
      "data\\train-devel-test\\train\\wikipedia\\no-morph\\huwiki_200_37.conllup\n",
      "data\\train-devel-test\\train\\wikipedia\\no-morph\\huwiki_200_38.conllup\n",
      "data\\train-devel-test\\train\\wikipedia\\no-morph\\huwiki_200_39.conllup\n",
      "data\\train-devel-test\\train\\wikipedia\\no-morph\\huwiki_200_4.conllup\n",
      "data\\train-devel-test\\train\\wikipedia\\no-morph\\huwiki_200_40.conllup\n",
      "data\\train-devel-test\\train\\wikipedia\\no-morph\\huwiki_200_41.conllup\n",
      "data\\train-devel-test\\train\\wikipedia\\no-morph\\huwiki_200_42.conllup\n",
      "data\\train-devel-test\\train\\wikipedia\\no-morph\\huwiki_200_43.conllup\n",
      "data\\train-devel-test\\train\\wikipedia\\no-morph\\huwiki_200_44.conllup\n",
      "data\\train-devel-test\\train\\wikipedia\\no-morph\\huwiki_200_45.conllup\n",
      "data\\train-devel-test\\train\\wikipedia\\no-morph\\huwiki_200_46.conllup\n",
      "data\\train-devel-test\\train\\wikipedia\\no-morph\\huwiki_200_47.conllup\n",
      "data\\train-devel-test\\train\\wikipedia\\no-morph\\huwiki_200_48.conllup\n",
      "data\\train-devel-test\\train\\wikipedia\\no-morph\\huwiki_200_49.conllup\n",
      "data\\train-devel-test\\train\\wikipedia\\no-morph\\huwiki_200_50.conllup\n",
      "data\\train-devel-test\\train\\wikipedia\\no-morph\\huwiki_200_51.conllup\n",
      "data\\train-devel-test\\train\\wikipedia\\no-morph\\huwiki_200_52.conllup\n",
      "data\\train-devel-test\\train\\wikipedia\\no-morph\\huwiki_200_53.conllup\n",
      "data\\train-devel-test\\train\\wikipedia\\no-morph\\huwiki_200_54.conllup\n",
      "data\\train-devel-test\\train\\wikipedia\\no-morph\\huwiki_200_55.conllup\n",
      "data\\train-devel-test\\train\\wikipedia\\no-morph\\huwiki_200_56.conllup\n",
      "data\\train-devel-test\\train\\wikipedia\\no-morph\\huwiki_200_57.conllup\n",
      "data\\train-devel-test\\train\\wikipedia\\no-morph\\huwiki_200_58.conllup\n",
      "data\\train-devel-test\\train\\wikipedia\\no-morph\\huwiki_200_59.conllup\n",
      "data\\train-devel-test\\train\\wikipedia\\no-morph\\huwiki_200_6.conllup\n",
      "data\\train-devel-test\\train\\wikipedia\\no-morph\\huwiki_200_60.conllup\n",
      "data\\train-devel-test\\train\\wikipedia\\no-morph\\huwiki_200_61.conllup\n",
      "{'devel': {'fiction': {'word_count': 20870, 'unique_words': 6294}, 'legal': {'word_count': 22647, 'unique_words': 6858}, 'news': {'word_count': 19849, 'unique_words': 7726}, 'wikipedia': {'word_count': 20066, 'unique_words': 7724}}, 'test': {'fiction': {'word_count': 20814, 'unique_words': 6425}, 'legal': {'word_count': 22040, 'unique_words': 7041}, 'news': {'word_count': 20848, 'unique_words': 7838}, 'wikipedia': {'word_count': 19378, 'unique_words': 7704}}, 'train': {'fiction': {'word_count': 161410, 'unique_words': 31070}, 'legal': {'word_count': 158152, 'unique_words': 28352}, 'news': {'word_count': 163779, 'unique_words': 36976}, 'wikipedia': {'word_count': 154517, 'unique_words': 35972}}}\n"
     ]
    }
   ],
   "source": [
    "\n",
    "word_counts = {}\n",
    "for data_set in train_devel_test_conllup_file_dirs:\n",
    "    word_counts[data_set] = {}\n",
    "    for genre_dir in train_devel_test_conllup_file_dirs[data_set]:\n",
    "        print(genre_dir)\n",
    "        genre = genre_dir.split(os.path.sep)[-2]\n",
    "        df = load_all_conllup_files_in_dir(genre_dir, data_set, genre)\n",
    "        word_counts[data_set][genre] = {\"word_count\": len(df), \"unique_words\": len(df[\"FORM\"].unique())}\n",
    "print(word_counts)\n"
   ]
  },
  {
   "cell_type": "code",
   "execution_count": 67,
   "id": "962f3c1a",
   "metadata": {},
   "outputs": [],
   "source": [
    "import json\n",
    "with open(\"word_count.json\", \"w\") as f:\n",
    "    json.dump(word_counts, f )"
   ]
  },
  {
   "cell_type": "code",
   "execution_count": 69,
   "id": "06a5464a",
   "metadata": {},
   "outputs": [],
   "source": [
    "get_train_devel_test_conllup_file_dirs\n",
    "def load_csv_files_from_dir(path_to_dir):\n",
    "    csv_files = [os.path.join(path_to_dir,f) for f in os.listdir(path_to_dir) if f.find(\".csv\") != -1]\n",
    "    print(csv_files)\n",
    "    df = pd.DataFrame()\n",
    "    for csv_file in csv_files:\n",
    "        temp_df = pd.read_csv(csv_file)\n",
    "        df = pd.concat([df, temp_df])\n",
    "    print(df)"
   ]
  },
  {
   "cell_type": "code",
   "execution_count": 70,
   "id": "103eb655",
   "metadata": {},
   "outputs": [
    {
     "name": "stdout",
     "output_type": "stream",
     "text": [
      "['data\\\\train-devel-test\\\\test\\\\fiction\\\\no-morph\\\\chilcote_1.csv', 'data\\\\train-devel-test\\\\test\\\\fiction\\\\no-morph\\\\opensubtitles_20.csv', 'data\\\\train-devel-test\\\\test\\\\fiction\\\\no-morph\\\\opensubtitles_21.csv', 'data\\\\train-devel-test\\\\test\\\\fiction\\\\no-morph\\\\opensubtitles_22.csv', 'data\\\\train-devel-test\\\\test\\\\fiction\\\\no-morph\\\\opensubtitles_25.csv', 'data\\\\train-devel-test\\\\test\\\\fiction\\\\no-morph\\\\opensubtitles_28.csv', 'data\\\\train-devel-test\\\\test\\\\fiction\\\\no-morph\\\\opensubtitles_29.csv', 'data\\\\train-devel-test\\\\test\\\\fiction\\\\no-morph\\\\opensubtitles_3.csv', 'data\\\\train-devel-test\\\\test\\\\fiction\\\\no-morph\\\\opensubtitles_30.csv', 'data\\\\train-devel-test\\\\test\\\\fiction\\\\no-morph\\\\opensubtitles_31.csv', 'data\\\\train-devel-test\\\\test\\\\fiction\\\\no-morph\\\\opensubtitles_50.csv', 'data\\\\train-devel-test\\\\test\\\\fiction\\\\no-morph\\\\tanarur_7.csv', 'data\\\\train-devel-test\\\\test\\\\fiction\\\\no-morph\\\\tokmag_2.csv']\n",
      "      Unnamed: 0  sentence_index  position_number_in_sentence     FORM LEMMA  \\\n",
      "0              0               0                            0     ELSŐ     _   \n",
      "1              1               0                            1    KÖTET     _   \n",
      "2              2               1                            0     ELSŐ     _   \n",
      "3              3               1                            1  FEJEZET     _   \n",
      "4              4               1                            2        .     _   \n",
      "...          ...             ...                          ...      ...   ...   \n",
      "2172        2172             200                            4        ,     _   \n",
      "2173        2173             200                            5      míg     _   \n",
      "2174        2174             200                            6     jobb     _   \n",
      "2175        2175             200                            7  nincsen     _   \n",
      "2176        2176             200                            8        .     _   \n",
      "\n",
      "     UPOS XPOS FEATS CONLL:NER train_test_devel    genre  \\\n",
      "0       _    _     _         O             test  fiction   \n",
      "1       _    _     _         O             test  fiction   \n",
      "2       _    _     _         O             test  fiction   \n",
      "3       _    _     _         O             test  fiction   \n",
      "4       _    _     _         O             test  fiction   \n",
      "...   ...  ...   ...       ...              ...      ...   \n",
      "2172    _    _     _         O             test  fiction   \n",
      "2173    _    _     _         O             test  fiction   \n",
      "2174    _    _     _         O             test  fiction   \n",
      "2175    _    _     _         O             test  fiction   \n",
      "2176    _    _     _         O             test  fiction   \n",
      "\n",
      "                                              file_path  \n",
      "0     data\\train-devel-test\\test\\fiction\\no-morph\\ch...  \n",
      "1     data\\train-devel-test\\test\\fiction\\no-morph\\ch...  \n",
      "2     data\\train-devel-test\\test\\fiction\\no-morph\\ch...  \n",
      "3     data\\train-devel-test\\test\\fiction\\no-morph\\ch...  \n",
      "4     data\\train-devel-test\\test\\fiction\\no-morph\\ch...  \n",
      "...                                                 ...  \n",
      "2172  data\\train-devel-test\\test\\fiction\\no-morph\\to...  \n",
      "2173  data\\train-devel-test\\test\\fiction\\no-morph\\to...  \n",
      "2174  data\\train-devel-test\\test\\fiction\\no-morph\\to...  \n",
      "2175  data\\train-devel-test\\test\\fiction\\no-morph\\to...  \n",
      "2176  data\\train-devel-test\\test\\fiction\\no-morph\\to...  \n",
      "\n",
      "[20814 rows x 12 columns]\n"
     ]
    }
   ],
   "source": [
    "load_csv_files_from_dir(get_train_devel_test_conllup_file_dirs()[\"test\"][0])"
   ]
  },
  {
   "cell_type": "code",
   "execution_count": 72,
   "id": "ccc0e21c",
   "metadata": {},
   "outputs": [
    {
     "name": "stdout",
     "output_type": "stream",
     "text": [
      "{'devel': {'fiction': {'word_count': 20870, 'unique_words': 6294}, 'legal': {'word_count': 22647, 'unique_words': 6858}, 'news': {'word_count': 19849, 'unique_words': 7726}, 'wikipedia': {'word_count': 20066, 'unique_words': 7724}}, 'test': {'fiction': {'word_count': 20814, 'unique_words': 6425}, 'legal': {'word_count': 22040, 'unique_words': 7041}, 'news': {'word_count': 20848, 'unique_words': 7838}, 'wikipedia': {'word_count': 19378, 'unique_words': 7704}}, 'train': {'fiction': {'word_count': 161410, 'unique_words': 31070}, 'legal': {'word_count': 158152, 'unique_words': 28352}, 'news': {'word_count': 163779, 'unique_words': 36976}, 'wikipedia': {'word_count': 154517, 'unique_words': 35972}}}\n"
     ]
    }
   ],
   "source": [
    "import json\n",
    "with open(\"word_count.json\", \"r\") as f:\n",
    "    word_count = json.load(f)\n",
    "    print(word_count)"
   ]
  },
  {
   "cell_type": "code",
   "execution_count": 83,
   "id": "6fab464d",
   "metadata": {},
   "outputs": [],
   "source": [
    "import matplotlib.pyplot as plt\n",
    "import numpy as np"
   ]
  },
  {
   "cell_type": "code",
   "execution_count": 182,
   "id": "4a7e367e",
   "metadata": {},
   "outputs": [
    {
     "data": {
      "image/png": "[encoded data removed]",
      "text/plain": [
       "<Figure size 1476x468 with 3 Axes>"
      ]
     },
     "metadata": {
      "needs_background": "light"
     },
     "output_type": "display_data"
    }
   ],
   "source": [
    "\n",
    "def plot_word_counts(word_counts):\n",
    "    datasets = [dataset for dataset in word_counts]\n",
    "    fig, ax = plt.subplots(1,len(datasets))\n",
    "    fig.suptitle(\"Count of all words and unique words across the datasets and genres\",  fontsize=16)\n",
    "    fig.set_size_inches(20.5, 6.5)\n",
    "    for i, dataset in enumerate(reversed(datasets)):\n",
    "        genres = [genre for genre in word_counts[dataset]]\n",
    "        width = 0.4\n",
    "        x = np.arange(len(genres))\n",
    "        y_values = {}\n",
    "        for genre in genres:\n",
    "            for word_count in word_counts[dataset][genre]:\n",
    "                if word_count not in y_values:\n",
    "                    y_values[word_count] = [word_counts[dataset][genre][word_count]]\n",
    "                else:\n",
    "                    y_values[word_count].append(word_counts[dataset][genre][word_count])\n",
    "        for j, word_count in enumerate(y_values):\n",
    "            label = \"# of all words\" if word_count == \"word_count\" else \"# of unique words\" \n",
    "            color = \"salmon\" if j == 0 else \"plum\"\n",
    "            rects = ax[i].bar((x + (width/2 * (-1)**j)), y_values[word_count], width, label=label, color=color)\n",
    "            ax[i].bar_label(rects, padding=3)\n",
    "        ax[i].set_xticks(x, genres)\n",
    "        ax[i].legend()\n",
    "        ax[i].set_title(f\"{dataset[0].upper()}{dataset[1:]}\")\n",
    "        ax[i].set_ylim(0, 200_000)\n",
    "        \n",
    "\n",
    "plot_word_counts(word_count)"
   ]
  },
  {
   "cell_type": "code",
   "execution_count": null,
   "id": "11799f22",
   "metadata": {},
   "outputs": [],
   "source": []
  }
 ],
 "metadata": {
  "kernelspec": {
   "display_name": "Python 3 (ipykernel)",
   "language": "python",
   "name": "python3"
  },
  "language_info": {
   "codemirror_mode": {
    "name": "ipython",
    "version": 3
   },
   "file_extension": ".py",
   "mimetype": "text/x-python",
   "name": "python",
   "nbconvert_exporter": "python",
   "pygments_lexer": "ipython3",
   "version": "3.9.5"
  }
 },
 "nbformat": 4,
 "nbformat_minor": 5
}
